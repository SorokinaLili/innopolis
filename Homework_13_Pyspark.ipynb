{
  "cells": [
    {
      "cell_type": "code",
      "source": [
        "!pip install pyspark"
      ],
      "metadata": {
        "colab": {
          "base_uri": "https://localhost:8080/"
        },
        "id": "SuPu0SgJow9c",
        "outputId": "914f7a5a-b6a7-480e-c16b-d771e9b79bf7"
      },
      "execution_count": null,
      "outputs": [
        {
          "output_type": "stream",
          "name": "stdout",
          "text": [
            "Collecting pyspark\n",
            "  Downloading pyspark-3.2.1.tar.gz (281.4 MB)\n",
            "\u001b[K     |████████████████████████████████| 281.4 MB 35 kB/s \n",
            "\u001b[?25hCollecting py4j==0.10.9.3\n",
            "  Downloading py4j-0.10.9.3-py2.py3-none-any.whl (198 kB)\n",
            "\u001b[K     |████████████████████████████████| 198 kB 46.1 MB/s \n",
            "\u001b[?25hBuilding wheels for collected packages: pyspark\n",
            "  Building wheel for pyspark (setup.py) ... \u001b[?25l\u001b[?25hdone\n",
            "  Created wheel for pyspark: filename=pyspark-3.2.1-py2.py3-none-any.whl size=281853642 sha256=e2b203cb33f9d459a20481cd7c69b3602f03ad71e2e6228033319b58a36a0405\n",
            "  Stored in directory: /root/.cache/pip/wheels/9f/f5/07/7cd8017084dce4e93e84e92efd1e1d5334db05f2e83bcef74f\n",
            "Successfully built pyspark\n",
            "Installing collected packages: py4j, pyspark\n",
            "Successfully installed py4j-0.10.9.3 pyspark-3.2.1\n"
          ]
        }
      ]
    },
    {
      "cell_type": "code",
      "execution_count": null,
      "metadata": {
        "id": "BWYmmjLPP1sX"
      },
      "outputs": [],
      "source": [
        "import pandas as pd\n",
        "import numpy as np\n",
        "\n",
        "from pyspark.sql.functions import *\n",
        "from pyspark.sql.types import DoubleType, IntegerType, DateType\n",
        "\n",
        "from pyspark.ml.feature import StringIndexer\n",
        "from pyspark.ml import Pipeline\n",
        "from pyspark.ml.feature import VectorAssembler\n",
        "from pyspark.ml.classification import LogisticRegression\n",
        "from pyspark.ml.evaluation import MulticlassClassificationEvaluator"
      ]
    },
    {
      "cell_type": "code",
      "execution_count": null,
      "metadata": {
        "id": "4JZBjwNV8UJh"
      },
      "outputs": [],
      "source": [
        "from pyspark.context import SparkContext\n",
        "from pyspark.sql.session import SparkSession #to define a SparkSession\n",
        "\n",
        "sc = SparkContext('local') #spark_connection\n",
        "spark = SparkSession(sc) # open spark session"
      ]
    },
    {
      "cell_type": "markdown",
      "metadata": {
        "id": "SaAuh7nDQIGk"
      },
      "source": [
        "## Задание. Обучите модель классификации для цветков Iris'а\n",
        "\n",
        "Примерная последовательность действий:\n",
        "1. Взять данные iris.csv\n",
        "2. Загрузить в pyspark\n",
        "3. При помощи VectorAssembler преобразовать все колонки с признаками в одну (использовать PipeLine)\n",
        "4. Разбить данные на train и test\n",
        "5. Создать модель логистической регресии и обучить ее\n",
        "6. Воспользоваться MulticlassClassificationEvaluator для оценки качества на train и test множестве"
      ]
    },
    {
      "cell_type": "code",
      "execution_count": 15,
      "metadata": {
        "id": "Ye0SVwOrQQLc"
      },
      "outputs": [],
      "source": [
        "df = spark.read.format(\"com.databricks.spark.csv\").options(sep=\",\", header=True, quote=\"\").csv('/content/sample_data/iris.csv')"
      ]
    },
    {
      "cell_type": "code",
      "execution_count": 14,
      "metadata": {
        "colab": {
          "base_uri": "https://localhost:8080/"
        },
        "id": "aSkkeDbakSb1",
        "outputId": "85bfb492-37d7-488e-9453-6c7d35f11a2d"
      },
      "outputs": [
        {
          "output_type": "stream",
          "name": "stdout",
          "text": [
            "+-------------+---------------+----------------+---------------+------------+\n",
            "|\"sepal.length|\"\"sepal.width\"\"|\"\"petal.length\"\"|\"\"petal.width\"\"|\"\"variety\"\"\"|\n",
            "+-------------+---------------+----------------+---------------+------------+\n",
            "|         \"5.1|            3.5|             1.4|             .2| \"\"Setosa\"\"\"|\n",
            "|         \"4.9|              3|             1.4|             .2| \"\"Setosa\"\"\"|\n",
            "|         \"4.7|            3.2|             1.3|             .2| \"\"Setosa\"\"\"|\n",
            "|         \"4.6|            3.1|             1.5|             .2| \"\"Setosa\"\"\"|\n",
            "|           \"5|            3.6|             1.4|             .2| \"\"Setosa\"\"\"|\n",
            "+-------------+---------------+----------------+---------------+------------+\n",
            "only showing top 5 rows\n",
            "\n"
          ]
        }
      ],
      "source": [
        "df.show(5)"
      ]
    },
    {
      "cell_type": "code",
      "execution_count": 16,
      "metadata": {
        "colab": {
          "base_uri": "https://localhost:8080/"
        },
        "id": "OhCAeArVkfsp",
        "outputId": "797fed6e-b8bf-4a1a-99a8-8bbea47869c0"
      },
      "outputs": [
        {
          "output_type": "stream",
          "name": "stdout",
          "text": [
            "root\n",
            " |-- \"sepal.length: string (nullable = true)\n",
            " |-- \"\"sepal.width\"\": string (nullable = true)\n",
            " |-- \"\"petal.length\"\": string (nullable = true)\n",
            " |-- \"\"petal.width\"\": string (nullable = true)\n",
            " |-- \"\"variety\"\"\": string (nullable = true)\n",
            "\n"
          ]
        }
      ],
      "source": [
        "df.printSchema()"
      ]
    },
    {
      "cell_type": "code",
      "execution_count": 17,
      "metadata": {
        "id": "FPmX0-9sRCAt"
      },
      "outputs": [],
      "source": [
        "#преобразуем названия колонок, создав новый датафрейм\n",
        "newColumns = [\"sepal_length\", \"sepal_width\", \"petal_length\", \"petal_width\", \"variety\"]\n",
        "df_new = df.toDF(*newColumns)\n",
        "#удалим двойные ковычки в первом и последнем атрибутах\n",
        "df_new = df_new.withColumn(\"sepal_length\", regexp_replace(col(\"sepal_length\"), '\"', \"\"))\\\n",
        "    .withColumn(\"variety\", regexp_replace(col(\"variety\"), '\"', \"\"))\n",
        "\n",
        "#преобразуем в другие типы данных\n",
        "df_new = df_new \\\n",
        "    .withColumn('sepal_length', col('sepal_length').cast(DoubleType())) \\\n",
        "    .withColumn('sepal_width', col('sepal_width').cast(DoubleType())) \\\n",
        "    .withColumn('petal_length', col('petal_length').cast(DoubleType())) \\\n",
        "    .withColumn('petal_width', col('petal_width').cast(DoubleType()))"
      ]
    },
    {
      "cell_type": "code",
      "execution_count": null,
      "metadata": {
        "colab": {
          "base_uri": "https://localhost:8080/"
        },
        "id": "-u1_SZT_Q-fe",
        "outputId": "c0d9b6d7-da20-494b-a130-6555526db682"
      },
      "outputs": [
        {
          "name": "stdout",
          "output_type": "stream",
          "text": [
            "+------------+-----------+------------+-----------+-------+\n",
            "|sepal_length|sepal_width|petal_length|petal_width|variety|\n",
            "+------------+-----------+------------+-----------+-------+\n",
            "|         5.1|        3.5|         1.4|        0.2| Setosa|\n",
            "|         4.9|        3.0|         1.4|        0.2| Setosa|\n",
            "|         4.7|        3.2|         1.3|        0.2| Setosa|\n",
            "|         4.6|        3.1|         1.5|        0.2| Setosa|\n",
            "|         5.0|        3.6|         1.4|        0.2| Setosa|\n",
            "+------------+-----------+------------+-----------+-------+\n",
            "only showing top 5 rows\n",
            "\n"
          ]
        }
      ],
      "source": [
        "df_new.show(5)"
      ]
    },
    {
      "cell_type": "code",
      "execution_count": 18,
      "metadata": {
        "colab": {
          "base_uri": "https://localhost:8080/"
        },
        "id": "5yNMqRpgROyX",
        "outputId": "db97d864-5308-4d49-c178-87442e7d67c6"
      },
      "outputs": [
        {
          "output_type": "stream",
          "name": "stdout",
          "text": [
            "root\n",
            " |-- sepal_length: double (nullable = true)\n",
            " |-- sepal_width: double (nullable = true)\n",
            " |-- petal_length: double (nullable = true)\n",
            " |-- petal_width: double (nullable = true)\n",
            " |-- variety: string (nullable = true)\n",
            "\n"
          ]
        }
      ],
      "source": [
        "df_new.printSchema() #типы атрибутов"
      ]
    },
    {
      "cell_type": "code",
      "execution_count": 19,
      "metadata": {
        "colab": {
          "base_uri": "https://localhost:8080/"
        },
        "id": "3eca5eqFQgA5",
        "outputId": "9b9522c8-7148-4a13-b51b-97b6ef5bc261"
      },
      "outputs": [
        {
          "output_type": "stream",
          "name": "stdout",
          "text": [
            "+-------+------------------+-------------------+------------------+------------------+---------+\n",
            "|summary|      sepal_length|        sepal_width|      petal_length|       petal_width|  variety|\n",
            "+-------+------------------+-------------------+------------------+------------------+---------+\n",
            "|  count|               150|                150|               150|               150|      150|\n",
            "|   mean| 5.843333333333335|  3.057333333333334|3.7580000000000027| 1.199333333333334|     null|\n",
            "| stddev|0.8280661279778637|0.43586628493669793|1.7652982332594662|0.7622376689603467|     null|\n",
            "|    min|               4.3|                2.0|               1.0|               0.1|   Setosa|\n",
            "|    25%|               5.1|                2.8|               1.6|               0.3|     null|\n",
            "|    50%|               5.8|                3.0|               4.3|               1.3|     null|\n",
            "|    75%|               6.4|                3.3|               5.1|               1.8|     null|\n",
            "|    max|               7.9|                4.4|               6.9|               2.5|Virginica|\n",
            "+-------+------------------+-------------------+------------------+------------------+---------+\n",
            "\n"
          ]
        }
      ],
      "source": [
        "df_new.summary().show()"
      ]
    },
    {
      "cell_type": "code",
      "execution_count": 20,
      "metadata": {
        "id": "xEYNsctqSIF5"
      },
      "outputs": [],
      "source": [
        "pipeline = Pipeline(stages = \n",
        "[\n",
        "  StringIndexer(inputCol='variety', outputCol='varietyInd'),\n",
        "  VectorAssembler(inputCols=[\"sepal_length\", \"sepal_width\", \"petal_length\", \"petal_width\"], outputCol='Features')\n",
        "])"
      ]
    },
    {
      "cell_type": "code",
      "execution_count": 21,
      "metadata": {
        "id": "5JSyfk8GUsdK"
      },
      "outputs": [],
      "source": [
        "pipelineTrained = pipeline.fit(df_new)"
      ]
    },
    {
      "cell_type": "code",
      "execution_count": 22,
      "metadata": {
        "colab": {
          "base_uri": "https://localhost:8080/"
        },
        "id": "hC_nxQNQUt4M",
        "outputId": "d397740a-49c2-42ec-ac06-f261434200e5"
      },
      "outputs": [
        {
          "output_type": "stream",
          "name": "stdout",
          "text": [
            "+------------+-----------+------------+-----------+-------+----------+-----------------+\n",
            "|sepal_length|sepal_width|petal_length|petal_width|variety|varietyInd|         Features|\n",
            "+------------+-----------+------------+-----------+-------+----------+-----------------+\n",
            "|         5.1|        3.5|         1.4|        0.2| Setosa|       0.0|[5.1,3.5,1.4,0.2]|\n",
            "|         4.9|        3.0|         1.4|        0.2| Setosa|       0.0|[4.9,3.0,1.4,0.2]|\n",
            "|         4.7|        3.2|         1.3|        0.2| Setosa|       0.0|[4.7,3.2,1.3,0.2]|\n",
            "|         4.6|        3.1|         1.5|        0.2| Setosa|       0.0|[4.6,3.1,1.5,0.2]|\n",
            "|         5.0|        3.6|         1.4|        0.2| Setosa|       0.0|[5.0,3.6,1.4,0.2]|\n",
            "|         5.4|        3.9|         1.7|        0.4| Setosa|       0.0|[5.4,3.9,1.7,0.4]|\n",
            "|         4.6|        3.4|         1.4|        0.3| Setosa|       0.0|[4.6,3.4,1.4,0.3]|\n",
            "|         5.0|        3.4|         1.5|        0.2| Setosa|       0.0|[5.0,3.4,1.5,0.2]|\n",
            "|         4.4|        2.9|         1.4|        0.2| Setosa|       0.0|[4.4,2.9,1.4,0.2]|\n",
            "|         4.9|        3.1|         1.5|        0.1| Setosa|       0.0|[4.9,3.1,1.5,0.1]|\n",
            "|         5.4|        3.7|         1.5|        0.2| Setosa|       0.0|[5.4,3.7,1.5,0.2]|\n",
            "|         4.8|        3.4|         1.6|        0.2| Setosa|       0.0|[4.8,3.4,1.6,0.2]|\n",
            "|         4.8|        3.0|         1.4|        0.1| Setosa|       0.0|[4.8,3.0,1.4,0.1]|\n",
            "|         4.3|        3.0|         1.1|        0.1| Setosa|       0.0|[4.3,3.0,1.1,0.1]|\n",
            "|         5.8|        4.0|         1.2|        0.2| Setosa|       0.0|[5.8,4.0,1.2,0.2]|\n",
            "|         5.7|        4.4|         1.5|        0.4| Setosa|       0.0|[5.7,4.4,1.5,0.4]|\n",
            "|         5.4|        3.9|         1.3|        0.4| Setosa|       0.0|[5.4,3.9,1.3,0.4]|\n",
            "|         5.1|        3.5|         1.4|        0.3| Setosa|       0.0|[5.1,3.5,1.4,0.3]|\n",
            "|         5.7|        3.8|         1.7|        0.3| Setosa|       0.0|[5.7,3.8,1.7,0.3]|\n",
            "|         5.1|        3.8|         1.5|        0.3| Setosa|       0.0|[5.1,3.8,1.5,0.3]|\n",
            "+------------+-----------+------------+-----------+-------+----------+-----------------+\n",
            "only showing top 20 rows\n",
            "\n"
          ]
        }
      ],
      "source": [
        "# преобразуем признаки в вектор\n",
        "pipelineTrained.transform(df_new).show()"
      ]
    },
    {
      "cell_type": "code",
      "execution_count": 23,
      "metadata": {
        "id": "5XtsTGh_U5zo"
      },
      "outputs": [],
      "source": [
        "# создаем новый датафрейм\n",
        "df_features = pipelineTrained.transform(df_new)"
      ]
    },
    {
      "cell_type": "code",
      "execution_count": 24,
      "metadata": {
        "id": "SoNszhpbVBhP"
      },
      "outputs": [],
      "source": [
        "train, test = df_features.randomSplit([0.8, 0.2], seed=12345)"
      ]
    },
    {
      "cell_type": "code",
      "execution_count": 25,
      "metadata": {
        "colab": {
          "base_uri": "https://localhost:8080/"
        },
        "id": "tnWIvU5dVENQ",
        "outputId": "b3387789-34c4-4bf8-83ad-de8ce9664e37"
      },
      "outputs": [
        {
          "output_type": "stream",
          "name": "stdout",
          "text": [
            "+------------+-----------+------------+-----------+----------+----------+-----------------+\n",
            "|sepal_length|sepal_width|petal_length|petal_width|   variety|varietyInd|         Features|\n",
            "+------------+-----------+------------+-----------+----------+----------+-----------------+\n",
            "|         4.3|        3.0|         1.1|        0.1|    Setosa|       0.0|[4.3,3.0,1.1,0.1]|\n",
            "|         4.4|        2.9|         1.4|        0.2|    Setosa|       0.0|[4.4,2.9,1.4,0.2]|\n",
            "|         4.4|        3.0|         1.3|        0.2|    Setosa|       0.0|[4.4,3.0,1.3,0.2]|\n",
            "|         4.4|        3.2|         1.3|        0.2|    Setosa|       0.0|[4.4,3.2,1.3,0.2]|\n",
            "|         4.5|        2.3|         1.3|        0.3|    Setosa|       0.0|[4.5,2.3,1.3,0.3]|\n",
            "|         4.6|        3.1|         1.5|        0.2|    Setosa|       0.0|[4.6,3.1,1.5,0.2]|\n",
            "|         4.6|        3.4|         1.4|        0.3|    Setosa|       0.0|[4.6,3.4,1.4,0.3]|\n",
            "|         4.6|        3.6|         1.0|        0.2|    Setosa|       0.0|[4.6,3.6,1.0,0.2]|\n",
            "|         4.7|        3.2|         1.3|        0.2|    Setosa|       0.0|[4.7,3.2,1.3,0.2]|\n",
            "|         4.7|        3.2|         1.6|        0.2|    Setosa|       0.0|[4.7,3.2,1.6,0.2]|\n",
            "|         4.8|        3.0|         1.4|        0.1|    Setosa|       0.0|[4.8,3.0,1.4,0.1]|\n",
            "|         4.8|        3.0|         1.4|        0.3|    Setosa|       0.0|[4.8,3.0,1.4,0.3]|\n",
            "|         4.8|        3.1|         1.6|        0.2|    Setosa|       0.0|[4.8,3.1,1.6,0.2]|\n",
            "|         4.8|        3.4|         1.6|        0.2|    Setosa|       0.0|[4.8,3.4,1.6,0.2]|\n",
            "|         4.8|        3.4|         1.9|        0.2|    Setosa|       0.0|[4.8,3.4,1.9,0.2]|\n",
            "|         4.9|        2.4|         3.3|        1.0|Versicolor|       1.0|[4.9,2.4,3.3,1.0]|\n",
            "|         4.9|        2.5|         4.5|        1.7| Virginica|       2.0|[4.9,2.5,4.5,1.7]|\n",
            "|         4.9|        3.0|         1.4|        0.2|    Setosa|       0.0|[4.9,3.0,1.4,0.2]|\n",
            "|         4.9|        3.1|         1.5|        0.1|    Setosa|       0.0|[4.9,3.1,1.5,0.1]|\n",
            "|         4.9|        3.1|         1.5|        0.2|    Setosa|       0.0|[4.9,3.1,1.5,0.2]|\n",
            "+------------+-----------+------------+-----------+----------+----------+-----------------+\n",
            "only showing top 20 rows\n",
            "\n"
          ]
        }
      ],
      "source": [
        "train.show()"
      ]
    },
    {
      "cell_type": "code",
      "execution_count": 26,
      "metadata": {
        "colab": {
          "base_uri": "https://localhost:8080/"
        },
        "id": "IRwu-WAB476A",
        "outputId": "4a7eb27f-1734-4572-a987-2dbf362eec5f"
      },
      "outputs": [
        {
          "output_type": "stream",
          "name": "stdout",
          "text": [
            "+------------+-----------+------------+-----------+----------+----------+-----------------+\n",
            "|sepal_length|sepal_width|petal_length|petal_width|   variety|varietyInd|         Features|\n",
            "+------------+-----------+------------+-----------+----------+----------+-----------------+\n",
            "|         4.6|        3.2|         1.4|        0.2|    Setosa|       0.0|[4.6,3.2,1.4,0.2]|\n",
            "|         5.0|        3.0|         1.6|        0.2|    Setosa|       0.0|[5.0,3.0,1.6,0.2]|\n",
            "|         5.0|        3.2|         1.2|        0.2|    Setosa|       0.0|[5.0,3.2,1.2,0.2]|\n",
            "|         5.0|        3.5|         1.3|        0.3|    Setosa|       0.0|[5.0,3.5,1.3,0.3]|\n",
            "|         5.1|        3.5|         1.4|        0.3|    Setosa|       0.0|[5.1,3.5,1.4,0.3]|\n",
            "|         5.4|        3.4|         1.5|        0.4|    Setosa|       0.0|[5.4,3.4,1.5,0.4]|\n",
            "|         5.4|        3.9|         1.3|        0.4|    Setosa|       0.0|[5.4,3.9,1.3,0.4]|\n",
            "|         5.7|        2.8|         4.1|        1.3|Versicolor|       1.0|[5.7,2.8,4.1,1.3]|\n",
            "|         6.1|        2.9|         4.7|        1.4|Versicolor|       1.0|[6.1,2.9,4.7,1.4]|\n",
            "|         6.2|        2.2|         4.5|        1.5|Versicolor|       1.0|[6.2,2.2,4.5,1.5]|\n",
            "|         6.2|        3.4|         5.4|        2.3| Virginica|       2.0|[6.2,3.4,5.4,2.3]|\n",
            "|         6.4|        3.1|         5.5|        1.8| Virginica|       2.0|[6.4,3.1,5.5,1.8]|\n",
            "|         6.5|        3.0|         5.2|        2.0| Virginica|       2.0|[6.5,3.0,5.2,2.0]|\n",
            "|         6.5|        3.2|         5.1|        2.0| Virginica|       2.0|[6.5,3.2,5.1,2.0]|\n",
            "|         6.7|        2.5|         5.8|        1.8| Virginica|       2.0|[6.7,2.5,5.8,1.8]|\n",
            "|         6.7|        3.0|         5.2|        2.3| Virginica|       2.0|[6.7,3.0,5.2,2.3]|\n",
            "|         6.7|        3.1|         4.7|        1.5|Versicolor|       1.0|[6.7,3.1,4.7,1.5]|\n",
            "|         6.7|        3.3|         5.7|        2.5| Virginica|       2.0|[6.7,3.3,5.7,2.5]|\n",
            "|         6.9|        3.1|         4.9|        1.5|Versicolor|       1.0|[6.9,3.1,4.9,1.5]|\n",
            "|         6.9|        3.1|         5.4|        2.1| Virginica|       2.0|[6.9,3.1,5.4,2.1]|\n",
            "+------------+-----------+------------+-----------+----------+----------+-----------------+\n",
            "only showing top 20 rows\n",
            "\n"
          ]
        }
      ],
      "source": [
        "test.show()"
      ]
    },
    {
      "cell_type": "code",
      "execution_count": 27,
      "metadata": {
        "id": "bbfuW-mCVIDO"
      },
      "outputs": [],
      "source": [
        "lr = LogisticRegression(featuresCol = 'Features', labelCol = 'varietyInd')\n",
        "lrModel = lr.fit(train)"
      ]
    },
    {
      "cell_type": "code",
      "execution_count": 28,
      "metadata": {
        "id": "mkg0VaN1VaJp"
      },
      "outputs": [],
      "source": [
        "train_res = lrModel.transform(train)\n",
        "test_res = lrModel.transform(test)"
      ]
    },
    {
      "cell_type": "code",
      "execution_count": 29,
      "metadata": {
        "colab": {
          "base_uri": "https://localhost:8080/"
        },
        "id": "f62i7r9LVbfG",
        "outputId": "e91790fd-1968-4f6b-d32b-5bd0ab44d36f"
      },
      "outputs": [
        {
          "output_type": "stream",
          "name": "stdout",
          "text": [
            "+------------+-----------+------------+-----------+----------+----------+-----------------+--------------------+--------------------+----------+\n",
            "|sepal_length|sepal_width|petal_length|petal_width|   variety|varietyInd|         Features|       rawPrediction|         probability|prediction|\n",
            "+------------+-----------+------------+-----------+----------+----------+-----------------+--------------------+--------------------+----------+\n",
            "|         4.3|        3.0|         1.1|        0.1|    Setosa|       0.0|[4.3,3.0,1.1,0.1]|[67.7027919587531...|[1.0,1.6424718354...|       0.0|\n",
            "|         4.4|        2.9|         1.4|        0.2|    Setosa|       0.0|[4.4,2.9,1.4,0.2]|[57.0087434717148...|[1.0,1.4036227809...|       0.0|\n",
            "|         4.4|        3.0|         1.3|        0.2|    Setosa|       0.0|[4.4,3.0,1.3,0.2]|[61.7475610236625...|[1.0,2.4772179810...|       0.0|\n",
            "|         4.4|        3.2|         1.3|        0.2|    Setosa|       0.0|[4.4,3.2,1.3,0.2]|[68.8060989728479...|[1.0,1.2455403381...|       0.0|\n",
            "|         4.5|        2.3|         1.3|        0.3|    Setosa|       0.0|[4.5,2.3,1.3,0.3]|[33.5065444211333...|[0.99999999999743...|       0.0|\n",
            "|         4.6|        3.1|         1.5|        0.2|    Setosa|       0.0|[4.6,3.1,1.5,0.2]|[61.0755416232729...|[1.0,5.0956843582...|       0.0|\n",
            "|         4.6|        3.4|         1.4|        0.3|    Setosa|       0.0|[4.6,3.4,1.4,0.3]|[70.2278589541617...|[1.0,9.9660365310...|       0.0|\n",
            "|         4.6|        3.6|         1.0|        0.2|    Setosa|       0.0|[4.6,3.6,1.0,0.2]|[84.7696293830116...|[1.0,8.7251237620...|       0.0|\n",
            "|         4.7|        3.2|         1.3|        0.2|    Setosa|       0.0|[4.7,3.2,1.3,0.2]|[66.1328121424396...|[1.0,9.4890152732...|       0.0|\n",
            "|         4.7|        3.2|         1.6|        0.2|    Setosa|       0.0|[4.7,3.2,1.6,0.2]|[62.5041664103744...|[1.0,6.1541780872...|       0.0|\n",
            "|         4.8|        3.0|         1.4|        0.1|    Setosa|       0.0|[4.8,3.0,1.4,0.1]|[59.6186681760073...|[1.0,1.4584305706...|       0.0|\n",
            "|         4.8|        3.0|         1.4|        0.3|    Setosa|       0.0|[4.8,3.0,1.4,0.3]|[54.3285918355187...|[1.0,7.0845275488...|       0.0|\n",
            "|         4.8|        3.1|         1.6|        0.2|    Setosa|       0.0|[4.8,3.1,1.6,0.2]|[58.0838018256456...|[1.0,3.6792648855...|       0.0|\n",
            "|         4.8|        3.4|         1.6|        0.2|    Setosa|       0.0|[4.8,3.4,1.6,0.2]|[68.6716087494237...|[1.0,1.3117510359...|       0.0|\n",
            "|         4.8|        3.4|         1.9|        0.2|    Setosa|       0.0|[4.8,3.4,1.9,0.2]|[65.0429630173585...|[1.0,8.5074681082...|       0.0|\n",
            "|         4.9|        2.4|         3.3|        1.0|Versicolor|       1.0|[4.9,2.4,3.3,1.0]|[-9.2348077836296...|[5.60296124082673...|       1.0|\n",
            "|         4.9|        2.5|         4.5|        1.7| Virginica|       2.0|[4.9,2.5,4.5,1.7]|[-38.735388929007...|[1.73753692383009...|       2.0|\n",
            "|         4.9|        3.0|         1.4|        0.2|    Setosa|       0.0|[4.9,3.0,1.4,0.2]|[56.0825343956269...|[1.0,1.3626556118...|       0.0|\n",
            "|         4.9|        3.1|         1.5|        0.1|    Setosa|       0.0|[4.9,3.1,1.5,0.1]|[61.0472929631089...|[1.0,1.7613809704...|       0.0|\n",
            "|         4.9|        3.1|         1.5|        0.2|    Setosa|       0.0|[4.9,3.1,1.5,0.2]|[58.4022547928645...|[1.0,3.8820923917...|       0.0|\n",
            "+------------+-----------+------------+-----------+----------+----------+-----------------+--------------------+--------------------+----------+\n",
            "only showing top 20 rows\n",
            "\n"
          ]
        }
      ],
      "source": [
        "# предсказания на обучающей выборке\n",
        "train_res.show()"
      ]
    },
    {
      "cell_type": "code",
      "execution_count": 30,
      "metadata": {
        "colab": {
          "base_uri": "https://localhost:8080/"
        },
        "id": "rQ4xaZ73-9Um",
        "outputId": "26290331-ec22-4a6b-d866-db4725042f4e"
      },
      "outputs": [
        {
          "output_type": "stream",
          "name": "stdout",
          "text": [
            "+------------+-----------+------------+-----------+----------+----------+-----------------+--------------------+--------------------+----------+\n",
            "|sepal_length|sepal_width|petal_length|petal_width|   variety|varietyInd|         Features|       rawPrediction|         probability|prediction|\n",
            "+------------+-----------+------------+-----------+----------+----------+-----------------+--------------------+--------------------+----------+\n",
            "|         4.6|        3.2|         1.4|        0.2|    Setosa|       0.0|[4.6,3.2,1.4,0.2]|[65.8143591752207...|[1.0,8.9932431201...|       0.0|\n",
            "|         5.0|        3.0|         1.6|        0.2|    Setosa|       0.0|[5.0,3.0,1.6,0.2]|[52.7723416307807...|[1.0,9.3248066295...|       0.0|\n",
            "|         5.0|        3.2|         1.2|        0.2|    Setosa|       0.0|[5.0,3.2,1.2,0.2]|[64.6690738893863...|[1.0,1.7992914773...|       0.0|\n",
            "|         5.0|        3.5|         1.3|        0.3|    Setosa|       0.0|[5.0,3.5,1.3,0.3]|[71.4022940655650...|[1.0,5.6805112138...|       0.0|\n",
            "|         5.1|        3.5|         1.4|        0.3|    Setosa|       0.0|[5.1,3.5,1.4,0.3]|[69.3016498780739...|[1.0,9.6751604427...|       0.0|\n",
            "|         5.4|        3.4|         1.5|        0.4|    Setosa|       0.0|[5.4,3.4,1.5,0.4]|[59.2445073254735...|[1.0,9.2049254554...|       0.0|\n",
            "|         5.4|        3.9|         1.3|        0.4|    Setosa|       0.0|[5.4,3.9,1.3,0.4]|[79.3099493531470...|[1.0,1.0222056261...|       0.0|\n",
            "|         5.7|        2.8|         4.1|        1.3|Versicolor|       1.0|[5.7,2.8,4.1,1.3]|[-19.857999895921...|[2.92296739402976...|       1.0|\n",
            "|         6.1|        2.9|         4.7|        1.4|Versicolor|       1.0|[6.1,2.9,4.7,1.4]|[-29.795442996247...|[1.37507021891532...|       1.0|\n",
            "|         6.2|        2.2|         4.5|        1.5|Versicolor|       1.0|[6.2,2.2,4.5,1.5]|[-55.617362444066...|[1.89148902308776...|       1.0|\n",
            "|         6.2|        3.4|         5.4|        2.3| Virginica|       2.0|[6.2,3.4,5.4,2.3]|[-45.312377307104...|[1.05183032133338...|       2.0|\n",
            "|         6.4|        3.1|         5.5|        1.8| Virginica|       2.0|[6.4,3.1,5.5,1.8]|[-45.666733177288...|[1.40585868757656...|       2.0|\n",
            "|         6.5|        3.0|         5.2|        2.0| Virginica|       2.0|[6.5,3.0,5.2,2.0]|[-51.748528370440...|[7.53728472914469...|       2.0|\n",
            "|         6.5|        3.2|         5.1|        2.0| Virginica|       2.0|[6.5,3.2,5.1,2.0]|[-43.480441843900...|[5.51578248731895...|       2.0|\n",
            "|         6.7|        2.5|         5.8|        1.8| Virginica|       2.0|[6.7,2.5,5.8,1.8]|[-73.144279587317...|[8.71478137458529...|       2.0|\n",
            "|         6.7|        3.0|         5.2|        2.3| Virginica|       2.0|[6.7,3.0,5.2,2.3]|[-61.465834101445...|[3.17365707702393...|       2.0|\n",
            "|         6.7|        3.1|         4.7|        1.5|Versicolor|       1.0|[6.7,3.1,4.7,1.5]|[-30.728516878123...|[2.13953602238392...|       1.0|\n",
            "|         6.7|        3.3|         5.7|        2.5| Virginica|       2.0|[6.7,3.3,5.7,2.5]|[-62.215846404931...|[6.06480734858109...|       2.0|\n",
            "|         6.9|        3.1|         4.9|        1.5|Versicolor|       1.0|[6.9,3.1,4.9,1.5]|[-34.929805253105...|[7.36597936086620...|       1.0|\n",
            "|         6.9|        3.1|         5.4|        2.1| Virginica|       2.0|[6.9,3.1,5.4,2.1]|[-56.847777161346...|[1.39659261185467...|       2.0|\n",
            "+------------+-----------+------------+-----------+----------+----------+-----------------+--------------------+--------------------+----------+\n",
            "only showing top 20 rows\n",
            "\n"
          ]
        }
      ],
      "source": [
        "#предсказания на тестовой выборке\n",
        "test_res.show()"
      ]
    },
    {
      "cell_type": "code",
      "execution_count": 31,
      "metadata": {
        "id": "YQ83IaN_Veok"
      },
      "outputs": [],
      "source": [
        "ev = MulticlassClassificationEvaluator(labelCol='varietyInd')"
      ]
    },
    {
      "cell_type": "code",
      "execution_count": 32,
      "metadata": {
        "colab": {
          "base_uri": "https://localhost:8080/"
        },
        "id": "IIXDoLn_VrJ4",
        "outputId": "b7163f02-fced-40a4-8523-524101589a94"
      },
      "outputs": [
        {
          "output_type": "stream",
          "name": "stdout",
          "text": [
            "Точность предсказания на обучающей выборке: 98.44961240310077 %\n"
          ]
        }
      ],
      "source": [
        "print('Точность предсказания на обучающей выборке:', ev.evaluate(train_res)*100, '%')"
      ]
    },
    {
      "cell_type": "code",
      "execution_count": 33,
      "metadata": {
        "colab": {
          "base_uri": "https://localhost:8080/"
        },
        "id": "2GMdrUq0Vsnt",
        "outputId": "846b7df1-d7e1-4e69-ac2b-e5ac52740145"
      },
      "outputs": [
        {
          "output_type": "stream",
          "name": "stdout",
          "text": [
            "Точность предсказания на тестовой выборке: 100.0 %\n"
          ]
        }
      ],
      "source": [
        "print('Точность предсказания на тестовой выборке:', ev.evaluate(test_res)*100, '%')"
      ]
    },
    {
      "cell_type": "markdown",
      "metadata": {
        "id": "q6t_mHHlonj4"
      },
      "source": [
        "## Вывод\n",
        "На обучающей выборке получили модель с точностью более 98%, что является хорошим результатом, т.к на тестовой выборке модель показала точность 100%"
      ]
    }
  ],
  "metadata": {
    "colab": {
      "collapsed_sections": [],
      "name": "Homework_13_Pyspark.ipynb",
      "provenance": []
    },
    "kernelspec": {
      "display_name": "Python 3 (ipykernel)",
      "language": "python",
      "name": "python3"
    },
    "language_info": {
      "codemirror_mode": {
        "name": "ipython",
        "version": 3
      },
      "file_extension": ".py",
      "mimetype": "text/x-python",
      "name": "python",
      "nbconvert_exporter": "python",
      "pygments_lexer": "ipython3",
      "version": "3.10.2"
    }
  },
  "nbformat": 4,
  "nbformat_minor": 0
}