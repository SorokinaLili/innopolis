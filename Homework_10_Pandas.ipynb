{
 "cells": [
  {
   "cell_type": "markdown",
   "id": "0fa74476",
   "metadata": {},
   "source": [
    "# A/B тестирование"
   ]
  },
  {
   "cell_type": "markdown",
   "id": "57d39856",
   "metadata": {},
   "source": [
    "## Контекст задачи"
   ]
  },
  {
   "cell_type": "markdown",
   "id": "9b5bfc5a",
   "metadata": {},
   "source": [
    "Аналитики торговой площадки Авито тестируют новое предложение для пользователей, которое принесет до 10 % прибыли. То есть новое предложение будет успешным, если оно повысит коэффициент конверсии до 10%."
   ]
  },
  {
   "cell_type": "markdown",
   "id": "78c2ec2d",
   "metadata": {},
   "source": [
    "## Формулировка гипотезы"
   ]
  },
  {
   "cell_type": "markdown",
   "id": "31729a98",
   "metadata": {},
   "source": [
    "Hо: p(a) = p(b)\n",
    "\n",
    "H1: p(a) ≠ p(b)\n",
    "\n",
    "где p(a) и p(b) означают соответственно коэффициент конверсии прежнего предложения и нового предложения. Мы также установим уровень доверия 95%, то есть α = 0,05\n",
    "\n",
    "Значение α - это порог ошибки первого рода, который мы устанавливаем и делаем вывод: «Если вероятность наблюдения за результатом (p-value) ниже α, то мы отвергаем гипотезу Hо». Поскольку наша α=0,05 (что указывает на вероятность 5%), наша уверенность (1 — α) составляет 95%.\n",
    "\n",
    "В результате решения данной задачи, мы хотим быть на 95% уверены, что новое предложение повысит коэффициент конверсии до 10%, прежде чем отклонить нулевую гипотезу Ho."
   ]
  },
  {
   "cell_type": "markdown",
   "id": "252d3e3d",
   "metadata": {},
   "source": [
    "## Набор данных"
   ]
  },
  {
   "cell_type": "code",
   "execution_count": 9,
   "id": "ee57bd92",
   "metadata": {},
   "outputs": [],
   "source": [
    "import pandas as pd\n",
    "import numpy as np\n",
    "import seaborn as sns\n",
    "import scipy.stats as stats\n",
    "import matplotlib.pyplot as plt"
   ]
  },
  {
   "cell_type": "code",
   "execution_count": 3,
   "id": "da524603",
   "metadata": {},
   "outputs": [],
   "source": [
    "df = pd.read_csv('ad.csv')"
   ]
  },
  {
   "cell_type": "code",
   "execution_count": 4,
   "id": "552beac5",
   "metadata": {},
   "outputs": [
    {
     "data": {
      "text/html": [
       "<div>\n",
       "<style scoped>\n",
       "    .dataframe tbody tr th:only-of-type {\n",
       "        vertical-align: middle;\n",
       "    }\n",
       "\n",
       "    .dataframe tbody tr th {\n",
       "        vertical-align: top;\n",
       "    }\n",
       "\n",
       "    .dataframe thead th {\n",
       "        text-align: right;\n",
       "    }\n",
       "</style>\n",
       "<table border=\"1\" class=\"dataframe\">\n",
       "  <thead>\n",
       "    <tr style=\"text-align: right;\">\n",
       "      <th></th>\n",
       "      <th>ad_id</th>\n",
       "      <th>action</th>\n",
       "    </tr>\n",
       "  </thead>\n",
       "  <tbody>\n",
       "    <tr>\n",
       "      <th>0</th>\n",
       "      <td>B</td>\n",
       "      <td>1</td>\n",
       "    </tr>\n",
       "    <tr>\n",
       "      <th>1</th>\n",
       "      <td>B</td>\n",
       "      <td>1</td>\n",
       "    </tr>\n",
       "    <tr>\n",
       "      <th>2</th>\n",
       "      <td>A</td>\n",
       "      <td>0</td>\n",
       "    </tr>\n",
       "    <tr>\n",
       "      <th>3</th>\n",
       "      <td>B</td>\n",
       "      <td>0</td>\n",
       "    </tr>\n",
       "    <tr>\n",
       "      <th>4</th>\n",
       "      <td>A</td>\n",
       "      <td>1</td>\n",
       "    </tr>\n",
       "  </tbody>\n",
       "</table>\n",
       "</div>"
      ],
      "text/plain": [
       "  ad_id  action\n",
       "0     B       1\n",
       "1     B       1\n",
       "2     A       0\n",
       "3     B       0\n",
       "4     A       1"
      ]
     },
     "execution_count": 4,
     "metadata": {},
     "output_type": "execute_result"
    }
   ],
   "source": [
    "df.head()"
   ]
  },
  {
   "cell_type": "markdown",
   "id": "86f2fb4b",
   "metadata": {},
   "source": [
    "Описание набора данных:\n",
    "\n",
    "A - контрольная группа\n",
    "\n",
    "B - тестовая группа\n",
    "\n",
    "action:\n",
    "\n",
    "0 - не было покупки\n",
    "\n",
    "1 - была покупка"
   ]
  },
  {
   "cell_type": "code",
   "execution_count": 5,
   "id": "01dad271",
   "metadata": {},
   "outputs": [
    {
     "data": {
      "text/plain": [
       "<AxesSubplot:xlabel='action', ylabel='Count'>"
      ]
     },
     "execution_count": 5,
     "metadata": {},
     "output_type": "execute_result"
    },
    {
     "data": {
      "image/png": "[encoded data removed]",
      "text/plain": [
       "<Figure size 432x288 with 1 Axes>"
      ]
     },
     "metadata": {
      "needs_background": "light"
     },
     "output_type": "display_data"
    }
   ],
   "source": [
    "#распределение значений\n",
    "sns.histplot(data=df, x=\"action\", hue=\"ad_id\", multiple=\"dodge\")"
   ]
  },
  {
   "cell_type": "code",
   "execution_count": 6,
   "id": "e7a2f9d7",
   "metadata": {},
   "outputs": [
    {
     "data": {
      "text/html": [
       "<div>\n",
       "<style scoped>\n",
       "    .dataframe tbody tr th:only-of-type {\n",
       "        vertical-align: middle;\n",
       "    }\n",
       "\n",
       "    .dataframe tbody tr th {\n",
       "        vertical-align: top;\n",
       "    }\n",
       "\n",
       "    .dataframe thead th {\n",
       "        text-align: right;\n",
       "    }\n",
       "</style>\n",
       "<table border=\"1\" class=\"dataframe\">\n",
       "  <thead>\n",
       "    <tr style=\"text-align: right;\">\n",
       "      <th></th>\n",
       "      <th>action</th>\n",
       "    </tr>\n",
       "    <tr>\n",
       "      <th>ad_id</th>\n",
       "      <th></th>\n",
       "    </tr>\n",
       "  </thead>\n",
       "  <tbody>\n",
       "    <tr>\n",
       "      <th>A</th>\n",
       "      <td>304</td>\n",
       "    </tr>\n",
       "    <tr>\n",
       "      <th>B</th>\n",
       "      <td>372</td>\n",
       "    </tr>\n",
       "  </tbody>\n",
       "</table>\n",
       "</div>"
      ],
      "text/plain": [
       "       action\n",
       "ad_id        \n",
       "A         304\n",
       "B         372"
      ]
     },
     "execution_count": 6,
     "metadata": {},
     "output_type": "execute_result"
    }
   ],
   "source": [
    "#сумма по группам\n",
    "summary_df = df.pivot_table(values='action', index = 'ad_id', aggfunc=np.sum)\n",
    "summary_df"
   ]
  },
  {
   "cell_type": "code",
   "execution_count": 7,
   "id": "f42f6505",
   "metadata": {},
   "outputs": [],
   "source": [
    "#добавим столбцы с расчетом кол-ва элементов по каждой группе и среднему (коэф-т конверсии)\n",
    "summary_df['total_count'] = df.pivot_table(values='action', index='ad_id', aggfunc=lambda x: len(x))\n",
    "\n",
    "summary_df['conversion_rate'] = df.pivot_table(values='action', index='ad_id') #по-умолчанию среднее"
   ]
  },
  {
   "cell_type": "code",
   "execution_count": 10,
   "id": "d7a44652",
   "metadata": {},
   "outputs": [],
   "source": [
    "#Вычислим стандартное отклонение и ошибку(std / sqrt(n)) для каждой группы\n",
    "summary_df['std_p'] = df.pivot_table(values='action', index='ad_id', aggfunc = lambda x: np.std(x, ddof=0))\n",
    "summary_df['se_p'] = df.pivot_table(values='action', index='ad_id', aggfunc = lambda x: stats.sem(x, ddof=0))"
   ]
  },
  {
   "cell_type": "code",
   "execution_count": 11,
   "id": "dd54fb61",
   "metadata": {},
   "outputs": [
    {
     "data": {
      "text/html": [
       "<div>\n",
       "<style scoped>\n",
       "    .dataframe tbody tr th:only-of-type {\n",
       "        vertical-align: middle;\n",
       "    }\n",
       "\n",
       "    .dataframe tbody tr th {\n",
       "        vertical-align: top;\n",
       "    }\n",
       "\n",
       "    .dataframe thead th {\n",
       "        text-align: right;\n",
       "    }\n",
       "</style>\n",
       "<table border=\"1\" class=\"dataframe\">\n",
       "  <thead>\n",
       "    <tr style=\"text-align: right;\">\n",
       "      <th></th>\n",
       "      <th>action</th>\n",
       "      <th>total_count</th>\n",
       "      <th>conversion_rate</th>\n",
       "      <th>std_p</th>\n",
       "      <th>se_p</th>\n",
       "    </tr>\n",
       "    <tr>\n",
       "      <th>ad_id</th>\n",
       "      <th></th>\n",
       "      <th></th>\n",
       "      <th></th>\n",
       "      <th></th>\n",
       "      <th></th>\n",
       "    </tr>\n",
       "  </thead>\n",
       "  <tbody>\n",
       "    <tr>\n",
       "      <th>A</th>\n",
       "      <td>304</td>\n",
       "      <td>1000</td>\n",
       "      <td>0.304</td>\n",
       "      <td>0.459983</td>\n",
       "      <td>0.014546</td>\n",
       "    </tr>\n",
       "    <tr>\n",
       "      <th>B</th>\n",
       "      <td>372</td>\n",
       "      <td>1000</td>\n",
       "      <td>0.372</td>\n",
       "      <td>0.483338</td>\n",
       "      <td>0.015285</td>\n",
       "    </tr>\n",
       "  </tbody>\n",
       "</table>\n",
       "</div>"
      ],
      "text/plain": [
       "       action  total_count  conversion_rate     std_p      se_p\n",
       "ad_id                                                          \n",
       "A         304         1000            0.304  0.459983  0.014546\n",
       "B         372         1000            0.372  0.483338  0.015285"
      ]
     },
     "execution_count": 11,
     "metadata": {},
     "output_type": "execute_result"
    }
   ],
   "source": [
    "summary_df"
   ]
  },
  {
   "cell_type": "code",
   "execution_count": 15,
   "id": "8e71daea",
   "metadata": {},
   "outputs": [
    {
     "data": {
      "text/plain": [
       "Text(0, 0.5, 'Коэф-т конверсии')"
      ]
     },
     "execution_count": 15,
     "metadata": {},
     "output_type": "execute_result"
    },
    {
     "data": {
      "image/png": "[encoded data removed]",
      "text/plain": [
       "<Figure size 432x288 with 1 Axes>"
      ]
     },
     "metadata": {
      "needs_background": "light"
     },
     "output_type": "display_data"
    }
   ],
   "source": [
    "sns.barplot(x=df['ad_id'], y=df['action'])\n",
    "\n",
    "plt.title('Коэффициент конверсии для каждой группы')\n",
    "plt.xlabel('Группа')\n",
    "plt.ylabel('Коэф-т конверсии')"
   ]
  },
  {
   "cell_type": "markdown",
   "id": "12cf65e3",
   "metadata": {},
   "source": [
    "Предложение B лучше, чем A (conversion_rate B > conversion_rate A)"
   ]
  },
  {
   "cell_type": "markdown",
   "id": "d19a5a48",
   "metadata": {},
   "source": [
    "## Проверка гипотезы"
   ]
  },
  {
   "cell_type": "markdown",
   "id": "a932e176",
   "metadata": {},
   "source": [
    "Используем критерий Z-статистики для конверсии\n",
    "Пришло время оценить, насколько разница в конверсии, которую мы получили на собранных данных, статистически значима. То есть, можем ли мы быть уверены, что разница, которую мы наблюдаем — неслучайная.\n",
    "\n",
    "Z-статистика — критерий, который подходит для оценки конверсии, поскольку данные конверсии дискретные: пользователь либо совершил покупку, и мы присвоили ему 1, либо не совершил и мы присвоили ему 0."
   ]
  },
  {
   "cell_type": "code",
   "execution_count": 17,
   "id": "6f77ecd7",
   "metadata": {},
   "outputs": [],
   "source": [
    "from statsmodels.stats.proportion import proportions_ztest, proportion_confint"
   ]
  },
  {
   "cell_type": "code",
   "execution_count": 18,
   "id": "a5244eb9",
   "metadata": {},
   "outputs": [],
   "source": [
    "#Выделяем явно группы: контрольная А, тестовая В\n",
    "control_results = df[df['ad_id'] == 'A']['action']\n",
    "test_results = df[df['ad_id'] == 'B']['action']"
   ]
  },
  {
   "cell_type": "code",
   "execution_count": 19,
   "id": "61abbf42",
   "metadata": {},
   "outputs": [
    {
     "name": "stdout",
     "output_type": "stream",
     "text": [
      "z statistic: -3.2144492244084213\n",
      "p-value: 0.0013069502732125403\n"
     ]
    }
   ],
   "source": [
    "#Считаем кол-во элементов в каждой группе\n",
    "#все пользователи из колонки\n",
    "nobs = [control_results.count(), test_results.count()]\n",
    "\n",
    "#Считаем кол-во покупок в каждой группе\n",
    "successes = [control_results.sum(), test_results.sum()]\n",
    "\n",
    "z_stat, pval = proportions_ztest(successes, nobs)\n",
    "\n",
    "print('z statistic:', z_stat)\n",
    "print('p-value:', pval)"
   ]
  },
  {
   "cell_type": "markdown",
   "id": "5633374b",
   "metadata": {},
   "source": [
    "Если p-value (pval) меньше порога ошибки первого рода — результат эксперимента можно считать статзначимым.\n",
    "Если p-value больше — мы будем вынуждены признать разницу в значениях тестовой и контрольной группы случайной"
   ]
  },
  {
   "cell_type": "code",
   "execution_count": 21,
   "id": "7f8b3a52",
   "metadata": {},
   "outputs": [],
   "source": [
    "#порог ошибки\n",
    "alpha = 0.05"
   ]
  },
  {
   "cell_type": "code",
   "execution_count": 22,
   "id": "5cd11a84",
   "metadata": {},
   "outputs": [
    {
     "name": "stdout",
     "output_type": "stream",
     "text": [
      "True\n"
     ]
    }
   ],
   "source": [
    "print(pval < alpha)"
   ]
  },
  {
   "cell_type": "code",
   "execution_count": 23,
   "id": "f228863c",
   "metadata": {},
   "outputs": [
    {
     "name": "stdout",
     "output_type": "stream",
     "text": [
      "Доверительный интервал для контрольной группы A: 0.2754905064387712  -  0.3325094935612288\n",
      "Доверительный интервал для тестовой группы B: 0.3420429266473629  -  0.4019570733526371\n"
     ]
    }
   ],
   "source": [
    "(lower_con, lower_test), (upper_con, upper_test) = proportion_confint(successes, nobs=nobs, alpha=alpha)\n",
    "\n",
    "print('Доверительный интервал для контрольной группы A:', lower_con, ' - ', upper_con)\n",
    "print('Доверительный интервал для тестовой группы B:', lower_test, ' - ', upper_test)"
   ]
  },
  {
   "cell_type": "markdown",
   "id": "44de1ca5",
   "metadata": {},
   "source": [
    "Вывод: новое предложение увеличит прибыль до 10% "
   ]
  }
 ],
 "metadata": {
  "kernelspec": {
   "display_name": "Python 3 (ipykernel)",
   "language": "python",
   "name": "python3"
  },
  "language_info": {
   "codemirror_mode": {
    "name": "ipython",
    "version": 3
   },
   "file_extension": ".py",
   "mimetype": "text/x-python",
   "name": "python",
   "nbconvert_exporter": "python",
   "pygments_lexer": "ipython3",
   "version": "3.10.2"
  }
 },
 "nbformat": 4,
 "nbformat_minor": 5
}
