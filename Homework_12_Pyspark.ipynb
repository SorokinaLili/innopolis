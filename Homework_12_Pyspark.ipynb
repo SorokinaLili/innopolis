{
  "nbformat": 4,
  "nbformat_minor": 0,
  "metadata": {
    "colab": {
      "name": "Homework_12_Pyspark.ipynb",
      "provenance": [],
      "collapsed_sections": []
    },
    "kernelspec": {
      "name": "python3",
      "display_name": "Python 3"
    },
    "language_info": {
      "name": "python"
    }
  },
  "cells": [
    {
      "cell_type": "code",
      "execution_count": null,
      "metadata": {
        "colab": {
          "base_uri": "https://localhost:8080/"
        },
        "id": "mOZVgID7TRyZ",
        "outputId": "88ba4240-7bbb-4b11-910a-53b2e2c4b29e"
      },
      "outputs": [
        {
          "output_type": "stream",
          "name": "stdout",
          "text": [
            "Collecting pyspark\n",
            "  Downloading pyspark-3.2.1.tar.gz (281.4 MB)\n",
            "\u001b[K     |████████████████████████████████| 281.4 MB 35 kB/s \n",
            "\u001b[?25hCollecting py4j==0.10.9.3\n",
            "  Downloading py4j-0.10.9.3-py2.py3-none-any.whl (198 kB)\n",
            "\u001b[K     |████████████████████████████████| 198 kB 44.0 MB/s \n",
            "\u001b[?25hBuilding wheels for collected packages: pyspark\n",
            "  Building wheel for pyspark (setup.py) ... \u001b[?25l\u001b[?25hdone\n",
            "  Created wheel for pyspark: filename=pyspark-3.2.1-py2.py3-none-any.whl size=281853642 sha256=2e0dcda9273286feb40010157ad38a9ee1a2278f72d1b960a4cf7c7f3597295d\n",
            "  Stored in directory: /root/.cache/pip/wheels/9f/f5/07/7cd8017084dce4e93e84e92efd1e1d5334db05f2e83bcef74f\n",
            "Successfully built pyspark\n",
            "Installing collected packages: py4j, pyspark\n",
            "Successfully installed py4j-0.10.9.3 pyspark-3.2.1\n"
          ]
        }
      ],
      "source": [
        "!pip install pyspark"
      ]
    },
    {
      "cell_type": "code",
      "source": [
        "import pandas as pd\n",
        "import numpy as np"
      ],
      "metadata": {
        "id": "XFdSYfSuVIVE"
      },
      "execution_count": null,
      "outputs": []
    },
    {
      "cell_type": "code",
      "source": [
        "from pyspark.context import SparkContext\n",
        "from pyspark.sql.session import SparkSession #to define a SparkSession\n",
        "\n",
        "sc = SparkContext('local') #spark connection\n",
        "spark = SparkSession(sc) # open spark_session"
      ],
      "metadata": {
        "id": "z620coJrVNGr"
      },
      "execution_count": null,
      "outputs": []
    },
    {
      "cell_type": "code",
      "source": [
        "df = spark.read.options(sep=\",\", header=True, quote=\"\").csv('/content/sample_data/iris.csv')"
      ],
      "metadata": {
        "id": "K9HdU843VWZq"
      },
      "execution_count": null,
      "outputs": []
    },
    {
      "cell_type": "code",
      "source": [
        "# выводим 5 первых строк\n",
        "df.show(5)"
      ],
      "metadata": {
        "colab": {
          "base_uri": "https://localhost:8080/"
        },
        "id": "Fm2DBryPYwmF",
        "outputId": "65f78932-e1d2-438c-8ae5-9c355d62738b"
      },
      "execution_count": null,
      "outputs": [
        {
          "output_type": "stream",
          "name": "stdout",
          "text": [
            "+-------------+---------------+----------------+---------------+------------+\n",
            "|\"sepal.length|\"\"sepal.width\"\"|\"\"petal.length\"\"|\"\"petal.width\"\"|\"\"variety\"\"\"|\n",
            "+-------------+---------------+----------------+---------------+------------+\n",
            "|         \"5.1|            3.5|             1.4|             .2| \"\"Setosa\"\"\"|\n",
            "|         \"4.9|              3|             1.4|             .2| \"\"Setosa\"\"\"|\n",
            "|         \"4.7|            3.2|             1.3|             .2| \"\"Setosa\"\"\"|\n",
            "|         \"4.6|            3.1|             1.5|             .2| \"\"Setosa\"\"\"|\n",
            "|           \"5|            3.6|             1.4|             .2| \"\"Setosa\"\"\"|\n",
            "+-------------+---------------+----------------+---------------+------------+\n",
            "only showing top 5 rows\n",
            "\n"
          ]
        }
      ]
    },
    {
      "cell_type": "code",
      "source": [
        "#выведем список колонок\n",
        "df.columns"
      ],
      "metadata": {
        "colab": {
          "base_uri": "https://localhost:8080/"
        },
        "id": "NVjG3FJ9knsM",
        "outputId": "6d7750db-3f48-4b4c-8eed-61b215c85068"
      },
      "execution_count": 15,
      "outputs": [
        {
          "output_type": "execute_result",
          "data": {
            "text/plain": [
              "['\"sepal.length',\n",
              " '\"\"sepal.width\"\"',\n",
              " '\"\"petal.length\"\"',\n",
              " '\"\"petal.width\"\"',\n",
              " '\"\"variety\"\"\"']"
            ]
          },
          "metadata": {},
          "execution_count": 15
        }
      ]
    },
    {
      "cell_type": "code",
      "source": [
        "#преобразуем названия колонок, убираем кавычки и точки, создав новый датафрейм\n",
        "newColumns = [\"sepal_length\",\"sepal_width\",\"petal_length\",\"petal_width\",\"variety\"]\n",
        "df_new = df.toDF(*newColumns)"
      ],
      "metadata": {
        "id": "g80O5FWZkyQw"
      },
      "execution_count": 16,
      "outputs": []
    },
    {
      "cell_type": "code",
      "source": [
        "from pyspark.sql.functions import *\n",
        "from pyspark.sql.types import DoubleType, IntegerType, DateType"
      ],
      "metadata": {
        "id": "k3_K3cXYk-tm"
      },
      "execution_count": 17,
      "outputs": []
    },
    {
      "cell_type": "code",
      "source": [
        "regexp_replace(col(\"sepal_length\"), '\"', '')"
      ],
      "metadata": {
        "colab": {
          "base_uri": "https://localhost:8080/"
        },
        "id": "QwzrbEwblBBM",
        "outputId": "1e7915eb-60a5-41ad-8d08-003e04331805"
      },
      "execution_count": 18,
      "outputs": [
        {
          "output_type": "execute_result",
          "data": {
            "text/plain": [
              "Column<'regexp_replace(sepal_length, \", , 1)'>"
            ]
          },
          "metadata": {},
          "execution_count": 18
        }
      ]
    },
    {
      "cell_type": "code",
      "source": [
        "#удалим двойные ковычки в первом и последнем атрибутах\n",
        "df_new = df_new.withColumn(\"sepal_length\", regexp_replace(col(\"sepal_length\"), '\"', '')).withColumn(\"variety\", regexp_replace(col(\"variety\"), '\"', ''))"
      ],
      "metadata": {
        "id": "XI1N4rYJlMcB"
      },
      "execution_count": 19,
      "outputs": []
    },
    {
      "cell_type": "code",
      "source": [
        "df_new.show(5) #преобразованный датафрейм"
      ],
      "metadata": {
        "colab": {
          "base_uri": "https://localhost:8080/"
        },
        "id": "1QggHxSxlUtt",
        "outputId": "e76dfcee-ada1-4f65-ff73-5c6ad77fc4ab"
      },
      "execution_count": 20,
      "outputs": [
        {
          "output_type": "stream",
          "name": "stdout",
          "text": [
            "+------------+-----------+------------+-----------+-------+\n",
            "|sepal_length|sepal_width|petal_length|petal_width|variety|\n",
            "+------------+-----------+------------+-----------+-------+\n",
            "|         5.1|        3.5|         1.4|         .2| Setosa|\n",
            "|         4.9|          3|         1.4|         .2| Setosa|\n",
            "|         4.7|        3.2|         1.3|         .2| Setosa|\n",
            "|         4.6|        3.1|         1.5|         .2| Setosa|\n",
            "|           5|        3.6|         1.4|         .2| Setosa|\n",
            "+------------+-----------+------------+-----------+-------+\n",
            "only showing top 5 rows\n",
            "\n"
          ]
        }
      ]
    },
    {
      "cell_type": "code",
      "source": [
        "df_new.printSchema() #типы атрибутов"
      ],
      "metadata": {
        "colab": {
          "base_uri": "https://localhost:8080/"
        },
        "id": "XNNz1qsAlZqE",
        "outputId": "2cf04e23-9f94-4fa9-d3ca-3c995e629e48"
      },
      "execution_count": 21,
      "outputs": [
        {
          "output_type": "stream",
          "name": "stdout",
          "text": [
            "root\n",
            " |-- sepal_length: string (nullable = true)\n",
            " |-- sepal_width: string (nullable = true)\n",
            " |-- petal_length: string (nullable = true)\n",
            " |-- petal_width: string (nullable = true)\n",
            " |-- variety: string (nullable = true)\n",
            "\n"
          ]
        }
      ]
    },
    {
      "cell_type": "code",
      "source": [
        "#преобразуем в типы данных\n",
        "df_new = df_new.withColumn('sepal_length', col('sepal_length').cast(DoubleType())) \\\n",
        "    .withColumn('sepal_width', col('sepal_width').cast(DoubleType())) \\\n",
        "    .withColumn('petal_length', col('petal_length').cast(DoubleType())) \\\n",
        "    .withColumn('petal_width', col('petal_width').cast(DoubleType()))"
      ],
      "metadata": {
        "id": "TaZcWI5Glip3"
      },
      "execution_count": 22,
      "outputs": []
    },
    {
      "cell_type": "code",
      "source": [
        "#посмотрим преобразованный df\n",
        "df_new.show(5)"
      ],
      "metadata": {
        "colab": {
          "base_uri": "https://localhost:8080/"
        },
        "id": "6KraiCYplvL6",
        "outputId": "4d2a1268-95af-4aa9-9701-a8465893b050"
      },
      "execution_count": 24,
      "outputs": [
        {
          "output_type": "stream",
          "name": "stdout",
          "text": [
            "+------------+-----------+------------+-----------+-------+\n",
            "|sepal_length|sepal_width|petal_length|petal_width|variety|\n",
            "+------------+-----------+------------+-----------+-------+\n",
            "|         5.1|        3.5|         1.4|        0.2| Setosa|\n",
            "|         4.9|        3.0|         1.4|        0.2| Setosa|\n",
            "|         4.7|        3.2|         1.3|        0.2| Setosa|\n",
            "|         4.6|        3.1|         1.5|        0.2| Setosa|\n",
            "|         5.0|        3.6|         1.4|        0.2| Setosa|\n",
            "+------------+-----------+------------+-----------+-------+\n",
            "only showing top 5 rows\n",
            "\n"
          ]
        }
      ]
    },
    {
      "cell_type": "markdown",
      "source": [
        "### Воспользуйтесь командами groupBy, max, min и avg, чтобы вывести максимальное минимальное и среднее значение каждого из атрибутов цветка ('sepal_length','sepal_width','petal_length','petal_width')."
      ],
      "metadata": {
        "id": "tlHKgXXKn8Rs"
      }
    },
    {
      "cell_type": "code",
      "source": [
        "df_new.groupBy(\"variety\") \\\n",
        "    .avg('sepal_length','sepal_width','petal_length','petal_width')  \\\n",
        "    .show()\n",
        "\n",
        "df_new.groupBy(\"variety\") \\\n",
        "    .min('sepal_length','sepal_width','petal_length','petal_width')  \\\n",
        "    .show()\n",
        "\n",
        "df_new.groupBy(\"variety\") \\\n",
        "    .max('sepal_length','sepal_width','petal_length','petal_width')  \\\n",
        "    .show()"
      ],
      "metadata": {
        "colab": {
          "base_uri": "https://localhost:8080/"
        },
        "id": "vw5cKAswnw-L",
        "outputId": "2d147992-ad07-4a1a-f192-b3ac292a38d6"
      },
      "execution_count": 27,
      "outputs": [
        {
          "output_type": "stream",
          "name": "stdout",
          "text": [
            "+----------+-----------------+------------------+------------------+------------------+\n",
            "|   variety|avg(sepal_length)|  avg(sepal_width)| avg(petal_length)|  avg(petal_width)|\n",
            "+----------+-----------------+------------------+------------------+------------------+\n",
            "| Virginica|6.587999999999998|2.9739999999999998|             5.552|             2.026|\n",
            "|    Setosa|5.005999999999999| 3.428000000000001|1.4620000000000002|0.2459999999999999|\n",
            "|Versicolor|            5.936|2.7700000000000005|              4.26|1.3259999999999998|\n",
            "+----------+-----------------+------------------+------------------+------------------+\n",
            "\n",
            "+----------+-----------------+----------------+-----------------+----------------+\n",
            "|   variety|min(sepal_length)|min(sepal_width)|min(petal_length)|min(petal_width)|\n",
            "+----------+-----------------+----------------+-----------------+----------------+\n",
            "| Virginica|              4.9|             2.2|              4.5|             1.4|\n",
            "|    Setosa|              4.3|             2.3|              1.0|             0.1|\n",
            "|Versicolor|              4.9|             2.0|              3.0|             1.0|\n",
            "+----------+-----------------+----------------+-----------------+----------------+\n",
            "\n",
            "+----------+-----------------+----------------+-----------------+----------------+\n",
            "|   variety|max(sepal_length)|max(sepal_width)|max(petal_length)|max(petal_width)|\n",
            "+----------+-----------------+----------------+-----------------+----------------+\n",
            "| Virginica|              7.9|             3.8|              6.9|             2.5|\n",
            "|    Setosa|              5.8|             4.4|              1.9|             0.6|\n",
            "|Versicolor|              7.0|             3.4|              5.1|             1.8|\n",
            "+----------+-----------------+----------------+-----------------+----------------+\n",
            "\n"
          ]
        }
      ]
    },
    {
      "cell_type": "code",
      "source": [
        "#через функцию агрегирования\n",
        "def agg_func(attr):\n",
        "  df_new.groupBy(\"variety\")  \\\n",
        "    .agg(  \\\n",
        "      avg(attr),  \\\n",
        "      min(attr),  \\\n",
        "      max(attr))  \\\n",
        "    .show()"
      ],
      "metadata": {
        "id": "ql8bB0W8ojdq"
      },
      "execution_count": 30,
      "outputs": []
    },
    {
      "cell_type": "code",
      "source": [
        "#реализуем через цикл\n",
        "for i in df_new.columns[:-1]: #переходим последовательно по колонкам\n",
        "  agg_func(i)"
      ],
      "metadata": {
        "colab": {
          "base_uri": "https://localhost:8080/"
        },
        "id": "rT-lu5ynozT2",
        "outputId": "55faf3de-eb4b-40ca-e70a-1f939643c471"
      },
      "execution_count": 32,
      "outputs": [
        {
          "output_type": "stream",
          "name": "stdout",
          "text": [
            "+----------+-----------------+-----------------+-----------------+\n",
            "|   variety|avg(sepal_length)|min(sepal_length)|max(sepal_length)|\n",
            "+----------+-----------------+-----------------+-----------------+\n",
            "| Virginica|6.587999999999998|              4.9|              7.9|\n",
            "|    Setosa|5.005999999999999|              4.3|              5.8|\n",
            "|Versicolor|            5.936|              4.9|              7.0|\n",
            "+----------+-----------------+-----------------+-----------------+\n",
            "\n",
            "+----------+------------------+----------------+----------------+\n",
            "|   variety|  avg(sepal_width)|min(sepal_width)|max(sepal_width)|\n",
            "+----------+------------------+----------------+----------------+\n",
            "| Virginica|2.9739999999999998|             2.2|             3.8|\n",
            "|    Setosa| 3.428000000000001|             2.3|             4.4|\n",
            "|Versicolor|2.7700000000000005|             2.0|             3.4|\n",
            "+----------+------------------+----------------+----------------+\n",
            "\n",
            "+----------+------------------+-----------------+-----------------+\n",
            "|   variety| avg(petal_length)|min(petal_length)|max(petal_length)|\n",
            "+----------+------------------+-----------------+-----------------+\n",
            "| Virginica|             5.552|              4.5|              6.9|\n",
            "|    Setosa|1.4620000000000002|              1.0|              1.9|\n",
            "|Versicolor|              4.26|              3.0|              5.1|\n",
            "+----------+------------------+-----------------+-----------------+\n",
            "\n",
            "+----------+------------------+----------------+----------------+\n",
            "|   variety|  avg(petal_width)|min(petal_width)|max(petal_width)|\n",
            "+----------+------------------+----------------+----------------+\n",
            "| Virginica|             2.026|             1.4|             2.5|\n",
            "|    Setosa|0.2459999999999999|             0.1|             0.6|\n",
            "|Versicolor|1.3259999999999998|             1.0|             1.8|\n",
            "+----------+------------------+----------------+----------------+\n",
            "\n"
          ]
        }
      ]
    },
    {
      "cell_type": "markdown",
      "source": [
        "### Постройте точечную диаграмму для petal_length и petal_width, раскрашенный по типам цветков."
      ],
      "metadata": {
        "id": "bwBvj5IQp_2P"
      }
    },
    {
      "cell_type": "code",
      "source": [
        "import seaborn as sns\n",
        "import matplotlib.pyplot as plt"
      ],
      "metadata": {
        "id": "wRjPHQGGp8kI"
      },
      "execution_count": 34,
      "outputs": []
    },
    {
      "cell_type": "code",
      "source": [
        "# преобразуем в pandas для визуализации\n",
        "df_new_pnd = df_new.toPandas()"
      ],
      "metadata": {
        "id": "flhp_XERq5vE"
      },
      "execution_count": 35,
      "outputs": []
    },
    {
      "cell_type": "code",
      "source": [
        "sns.scatterplot(data = df_new_pnd, x = \"petal_length\", y = \"petal_width\", hue = \"variety\").set(title='Diagram (petal_length, petal_width)')\n",
        "plt.show()"
      ],
      "metadata": {
        "colab": {
          "base_uri": "https://localhost:8080/",
          "height": 296
        },
        "id": "-Jutij3Lq9sN",
        "outputId": "b71264de-35c0-460d-a994-f7c106d18e17"
      },
      "execution_count": 36,
      "outputs": [
        {
          "output_type": "display_data",
          "data": {
            "text/plain": [
              "<Figure size 432x288 with 1 Axes>"
            ],
            "image/png": "[encoded data removed]"
          },
          "metadata": {
            "needs_background": "light"
          }
        }
      ]
    },
    {
      "cell_type": "markdown",
      "source": [
        "### 5. Посмотрите внимательно на получившийся график и сформируйте правило вида\n",
        "ЕСЛИ ЗНАЧЕНИЕ ПАРАМЕТРА A < ЗНАЧЕНИЕ, ТО IRIS ОТНОСИТСЯ К КЛАССУ SETOSA - ИНАЧЕ К КАКОМУ-ТО ДРУГОМУ (НАЗОВЕМ, ЕГО НАПРИМЕР UNKNOWN)."
      ],
      "metadata": {
        "id": "0GBB-UEEq9NJ"
      }
    },
    {
      "cell_type": "markdown",
      "source": [
        "ПРАВИЛО: Если petal_length < 2, а petal_width < 0.8, то это Setosa, в другом случае Unknown."
      ],
      "metadata": {
        "id": "aKYYPxZzsH2h"
      }
    },
    {
      "cell_type": "markdown",
      "source": [
        "### 6. При помощи команд withColumn, when, otherwise создайте в датафрейме новую колонку с таким предсказанием."
      ],
      "metadata": {
        "id": "sHM33npasIkr"
      }
    },
    {
      "cell_type": "code",
      "source": [
        "df_new_pred = df_new.withColumn(\"predict\", when((df_new.petal_length < 2) & (df_new.petal_width < 0.8), lit(\"Setosa\")).otherwise(lit(\"Unknown\")))\n",
        "df_new_pred.show(10)"
      ],
      "metadata": {
        "colab": {
          "base_uri": "https://localhost:8080/"
        },
        "id": "qgkbUqgFrmW_",
        "outputId": "8fe07832-8b9d-4fa6-d47d-4d8fc1906f39"
      },
      "execution_count": 37,
      "outputs": [
        {
          "output_type": "stream",
          "name": "stdout",
          "text": [
            "+------------+-----------+------------+-----------+-------+-------+\n",
            "|sepal_length|sepal_width|petal_length|petal_width|variety|predict|\n",
            "+------------+-----------+------------+-----------+-------+-------+\n",
            "|         5.1|        3.5|         1.4|        0.2| Setosa| Setosa|\n",
            "|         4.9|        3.0|         1.4|        0.2| Setosa| Setosa|\n",
            "|         4.7|        3.2|         1.3|        0.2| Setosa| Setosa|\n",
            "|         4.6|        3.1|         1.5|        0.2| Setosa| Setosa|\n",
            "|         5.0|        3.6|         1.4|        0.2| Setosa| Setosa|\n",
            "|         5.4|        3.9|         1.7|        0.4| Setosa| Setosa|\n",
            "|         4.6|        3.4|         1.4|        0.3| Setosa| Setosa|\n",
            "|         5.0|        3.4|         1.5|        0.2| Setosa| Setosa|\n",
            "|         4.4|        2.9|         1.4|        0.2| Setosa| Setosa|\n",
            "|         4.9|        3.1|         1.5|        0.1| Setosa| Setosa|\n",
            "+------------+-----------+------------+-----------+-------+-------+\n",
            "only showing top 10 rows\n",
            "\n"
          ]
        }
      ]
    },
    {
      "cell_type": "markdown",
      "source": [
        "### 7. Проверьте качество своего предсказания."
      ],
      "metadata": {
        "id": "I_wkaC48sunZ"
      }
    },
    {
      "cell_type": "code",
      "source": [
        "df_new_pred.agg(\n",
        "    count(when(col(\"variety\") == \"Setosa\", True)), # сколько всего вариантов Setosa\n",
        "    count(when((col(\"variety\") == \"Setosa\") & (col(\"predict\") == \"Setosa\"), True)), # совпадений\n",
        "    count(when((col(\"variety\") != \"Setosa\") & (col(\"predict\") == \"Setosa\"), True)) # Подсчитайте количество строк, где Вы предсказали класс Setosa, а\n",
        "                                                                                    #правильный класс был какой-то другой\n",
        "    ).show()"
      ],
      "metadata": {
        "colab": {
          "base_uri": "https://localhost:8080/"
        },
        "id": "90pmYCoBs5hG",
        "outputId": "f2f9bb5a-7d09-431b-a419-f19c8a8bf6d8"
      },
      "execution_count": 38,
      "outputs": [
        {
          "output_type": "stream",
          "name": "stdout",
          "text": [
            "+-------------------------------------------------+--------------------------------------------------------------------------+--------------------------------------------------------------------------------+\n",
            "|count(CASE WHEN (variety = Setosa) THEN true END)|count(CASE WHEN ((variety = Setosa) AND (predict = Setosa)) THEN true END)|count(CASE WHEN ((NOT (variety = Setosa)) AND (predict = Setosa)) THEN true END)|\n",
            "+-------------------------------------------------+--------------------------------------------------------------------------+--------------------------------------------------------------------------------+\n",
            "|                                               50|                                                                        50|                                                                               0|\n",
            "+-------------------------------------------------+--------------------------------------------------------------------------+--------------------------------------------------------------------------------+\n",
            "\n"
          ]
        }
      ]
    }
  ]
}