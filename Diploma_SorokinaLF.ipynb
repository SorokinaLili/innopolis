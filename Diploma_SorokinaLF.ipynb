{
  "cells": [
    {
      "cell_type": "markdown",
      "source": [
        "> # Анализ базы данных c индексом цен корма для собак “PriceIndexDogFood”\n",
        "\n"
      ],
      "metadata": {
        "id": "RH6csWb_hvtd"
      },
      "id": "RH6csWb_hvtd"
    },
    {
      "cell_type": "markdown",
      "source": [
        "### Данные\n",
        "Для итоговой аттестации использован dataset “PriceIndexDogFood.csv” из архива по ссылке: https://drive.google.com/file/d/1NAeoMzgTTwfBLok-nUdY3Ef3w4Fa7YG4/view "
      ],
      "metadata": {
        "id": "HVbvUnCniEZz"
      },
      "id": "HVbvUnCniEZz"
    },
    {
      "cell_type": "markdown",
      "source": [
        "### Введение\n",
        "Данный датасет необходим для интерпретирования данных, например, для понимания сезонного изменения цен за 1 кг корма для собак, и предсказания будущих значений временного ряда по настоящим и прошлым значениям.\n",
        "\n",
        "\n",
        "---\n",
        "\n",
        "\n",
        "\n",
        "Цель:проведение исследования данных и построение прогноза изменения цен на корм для собак.\n",
        "\n",
        " Задачи:\n",
        "* провести анализ данных об изменении цены на корм;\n",
        "* выбрать модели для прогнозирования;\n",
        "* составить прогноз изменения индекса цен на корм для собак на год вперед;\n",
        "* оценить эффективность прогнозируемых моделей."
      ],
      "metadata": {
        "id": "RMnEvN8XeDk3"
      },
      "id": "RMnEvN8XeDk3"
    },
    {
      "cell_type": "markdown",
      "id": "ded71f31",
      "metadata": {
        "id": "ded71f31"
      },
      "source": [
        "#### Импорт библиотек, ознакомление с данными"
      ]
    },
    {
      "cell_type": "code",
      "execution_count": null,
      "id": "1afd5af5",
      "metadata": {
        "id": "1afd5af5"
      },
      "outputs": [],
      "source": [
        "# загружаем pmdarima\n",
        "!pip install pmdarima"
      ]
    },
    {
      "cell_type": "code",
      "source": [
        "# загружаем fbprophet\n",
        "!pip install fbprophet"
      ],
      "metadata": {
        "id": "IMbx6XjPt57e"
      },
      "id": "IMbx6XjPt57e",
      "execution_count": null,
      "outputs": []
    },
    {
      "cell_type": "code",
      "execution_count": 4,
      "id": "fd8a3c45",
      "metadata": {
        "colab": {
          "base_uri": "https://localhost:8080/",
          "height": 0
        },
        "id": "fd8a3c45",
        "outputId": "03e9fce3-eee1-42d6-e24a-0dd06fd7a48e"
      },
      "outputs": [
        {
          "output_type": "stream",
          "name": "stdout",
          "text": [
            "397\n",
            "            DogFood\n",
            "Date               \n",
            "1985-12-01    100.0\n",
            "1986-01-01    100.2\n",
            "1986-02-01    100.3\n",
            "1986-03-01    100.2\n",
            "1986-04-01    100.7\n"
          ]
        }
      ],
      "source": [
        "import pandas as pd\n",
        "import numpy as np\n",
        "%matplotlib inline\n",
        "\n",
        "# импорт SARIMAX \n",
        "from statsmodels.tsa.statespace.sarimax import SARIMAX\n",
        "\n",
        "from statsmodels.graphics.tsaplots import plot_acf,plot_pacf # для определения (p,q) \n",
        "from statsmodels.tsa.seasonal import seasonal_decompose      # для ETS графиков\n",
        "from pmdarima import auto_arima                              # для поиска ARIMA моделей\n",
        "from fbprophet import Prophet                               # для модели Prophet\n",
        "\n",
        "# метрики\n",
        "from sklearn.metrics import mean_squared_error\n",
        "from sklearn.metrics import mean_absolute_error\n",
        "from statsmodels.tools.eval_measures import rmse\n",
        "\n",
        "# Загрузка данных\n",
        "df = pd.read_csv('/content/sample_data/PriceIndexDogFood.csv',index_col='Date',parse_dates=True)\n",
        "df.index.freq = 'MS'                                        #создаем индекс с частотой начала месяца\n",
        "print(len(df))                                              # выводим количество записей в df\n",
        "print(df.head())"
      ]
    },
    {
      "cell_type": "markdown",
      "id": "9f3cdb63",
      "metadata": {
        "id": "9f3cdb63"
      },
      "source": [
        "#### Проверяем, что все выгрузилось корректно"
      ]
    },
    {
      "cell_type": "code",
      "execution_count": 5,
      "id": "3aac004d",
      "metadata": {
        "colab": {
          "base_uri": "https://localhost:8080/",
          "height": 455
        },
        "id": "3aac004d",
        "outputId": "1b212667-578b-4189-f691-44007ba4391b"
      },
      "outputs": [
        {
          "output_type": "execute_result",
          "data": {
            "text/plain": [
              "            DogFood\n",
              "Date               \n",
              "1985-12-01    100.0\n",
              "1986-01-01    100.2\n",
              "1986-02-01    100.3\n",
              "1986-03-01    100.2\n",
              "1986-04-01    100.7\n",
              "...             ...\n",
              "2018-08-01    236.3\n",
              "2018-09-01    236.3\n",
              "2018-10-01    236.3\n",
              "2018-11-01    239.6\n",
              "2018-12-01    238.9\n",
              "\n",
              "[397 rows x 1 columns]"
            ],
            "text/html": [
              "\n",
              "  <div id=\"df-a6203d35-27e5-4bca-a040-be8970395a3e\">\n",
              "    <div class=\"colab-df-container\">\n",
              "      <div>\n",
              "<style scoped>\n",
              "    .dataframe tbody tr th:only-of-type {\n",
              "        vertical-align: middle;\n",
              "    }\n",
              "\n",
              "    .dataframe tbody tr th {\n",
              "        vertical-align: top;\n",
              "    }\n",
              "\n",
              "    .dataframe thead th {\n",
              "        text-align: right;\n",
              "    }\n",
              "</style>\n",
              "<table border=\"1\" class=\"dataframe\">\n",
              "  <thead>\n",
              "    <tr style=\"text-align: right;\">\n",
              "      <th></th>\n",
              "      <th>DogFood</th>\n",
              "    </tr>\n",
              "    <tr>\n",
              "      <th>Date</th>\n",
              "      <th></th>\n",
              "    </tr>\n",
              "  </thead>\n",
              "  <tbody>\n",
              "    <tr>\n",
              "      <th>1985-12-01</th>\n",
              "      <td>100.0</td>\n",
              "    </tr>\n",
              "    <tr>\n",
              "      <th>1986-01-01</th>\n",
              "      <td>100.2</td>\n",
              "    </tr>\n",
              "    <tr>\n",
              "      <th>1986-02-01</th>\n",
              "      <td>100.3</td>\n",
              "    </tr>\n",
              "    <tr>\n",
              "      <th>1986-03-01</th>\n",
              "      <td>100.2</td>\n",
              "    </tr>\n",
              "    <tr>\n",
              "      <th>1986-04-01</th>\n",
              "      <td>100.7</td>\n",
              "    </tr>\n",
              "    <tr>\n",
              "      <th>...</th>\n",
              "      <td>...</td>\n",
              "    </tr>\n",
              "    <tr>\n",
              "      <th>2018-08-01</th>\n",
              "      <td>236.3</td>\n",
              "    </tr>\n",
              "    <tr>\n",
              "      <th>2018-09-01</th>\n",
              "      <td>236.3</td>\n",
              "    </tr>\n",
              "    <tr>\n",
              "      <th>2018-10-01</th>\n",
              "      <td>236.3</td>\n",
              "    </tr>\n",
              "    <tr>\n",
              "      <th>2018-11-01</th>\n",
              "      <td>239.6</td>\n",
              "    </tr>\n",
              "    <tr>\n",
              "      <th>2018-12-01</th>\n",
              "      <td>238.9</td>\n",
              "    </tr>\n",
              "  </tbody>\n",
              "</table>\n",
              "<p>397 rows × 1 columns</p>\n",
              "</div>\n",
              "      <button class=\"colab-df-convert\" onclick=\"convertToInteractive('df-a6203d35-27e5-4bca-a040-be8970395a3e')\"\n",
              "              title=\"Convert this dataframe to an interactive table.\"\n",
              "              style=\"display:none;\">\n",
              "        \n",
              "  <svg xmlns=\"http://www.w3.org/2000/svg\" height=\"24px\"viewBox=\"0 0 24 24\"\n",
              "       width=\"24px\">\n",
              "    <path d=\"M0 0h24v24H0V0z\" fill=\"none\"/>\n",
              "    <path d=\"M18.56 5.44l.94 2.06.94-2.06 2.06-.94-2.06-.94-.94-2.06-.94 2.06-2.06.94zm-11 1L8.5 8.5l.94-2.06 2.06-.94-2.06-.94L8.5 2.5l-.94 2.06-2.06.94zm10 10l.94 2.06.94-2.06 2.06-.94-2.06-.94-.94-2.06-.94 2.06-2.06.94z\"/><path d=\"M17.41 7.96l-1.37-1.37c-.4-.4-.92-.59-1.43-.59-.52 0-1.04.2-1.43.59L10.3 9.45l-7.72 7.72c-.78.78-.78 2.05 0 2.83L4 21.41c.39.39.9.59 1.41.59.51 0 1.02-.2 1.41-.59l7.78-7.78 2.81-2.81c.8-.78.8-2.07 0-2.86zM5.41 20L4 18.59l7.72-7.72 1.47 1.35L5.41 20z\"/>\n",
              "  </svg>\n",
              "      </button>\n",
              "      \n",
              "  <style>\n",
              "    .colab-df-container {\n",
              "      display:flex;\n",
              "      flex-wrap:wrap;\n",
              "      gap: 12px;\n",
              "    }\n",
              "\n",
              "    .colab-df-convert {\n",
              "      background-color: #E8F0FE;\n",
              "      border: none;\n",
              "      border-radius: 50%;\n",
              "      cursor: pointer;\n",
              "      display: none;\n",
              "      fill: #1967D2;\n",
              "      height: 32px;\n",
              "      padding: 0 0 0 0;\n",
              "      width: 32px;\n",
              "    }\n",
              "\n",
              "    .colab-df-convert:hover {\n",
              "      background-color: #E2EBFA;\n",
              "      box-shadow: 0px 1px 2px rgba(60, 64, 67, 0.3), 0px 1px 3px 1px rgba(60, 64, 67, 0.15);\n",
              "      fill: #174EA6;\n",
              "    }\n",
              "\n",
              "    [theme=dark] .colab-df-convert {\n",
              "      background-color: #3B4455;\n",
              "      fill: #D2E3FC;\n",
              "    }\n",
              "\n",
              "    [theme=dark] .colab-df-convert:hover {\n",
              "      background-color: #434B5C;\n",
              "      box-shadow: 0px 1px 3px 1px rgba(0, 0, 0, 0.15);\n",
              "      filter: drop-shadow(0px 1px 2px rgba(0, 0, 0, 0.3));\n",
              "      fill: #FFFFFF;\n",
              "    }\n",
              "  </style>\n",
              "\n",
              "      <script>\n",
              "        const buttonEl =\n",
              "          document.querySelector('#df-a6203d35-27e5-4bca-a040-be8970395a3e button.colab-df-convert');\n",
              "        buttonEl.style.display =\n",
              "          google.colab.kernel.accessAllowed ? 'block' : 'none';\n",
              "\n",
              "        async function convertToInteractive(key) {\n",
              "          const element = document.querySelector('#df-a6203d35-27e5-4bca-a040-be8970395a3e');\n",
              "          const dataTable =\n",
              "            await google.colab.kernel.invokeFunction('convertToInteractive',\n",
              "                                                     [key], {});\n",
              "          if (!dataTable) return;\n",
              "\n",
              "          const docLinkHtml = 'Like what you see? Visit the ' +\n",
              "            '<a target=\"_blank\" href=https://colab.research.google.com/notebooks/data_table.ipynb>data table notebook</a>'\n",
              "            + ' to learn more about interactive tables.';\n",
              "          element.innerHTML = '';\n",
              "          dataTable['output_type'] = 'display_data';\n",
              "          await google.colab.output.renderOutput(dataTable, element);\n",
              "          const docLink = document.createElement('div');\n",
              "          docLink.innerHTML = docLinkHtml;\n",
              "          element.appendChild(docLink);\n",
              "        }\n",
              "      </script>\n",
              "    </div>\n",
              "  </div>\n",
              "  "
            ]
          },
          "metadata": {},
          "execution_count": 5
        }
      ],
      "source": [
        "df.head(398)"
      ]
    },
    {
      "cell_type": "code",
      "execution_count": 6,
      "id": "77a32342",
      "metadata": {
        "colab": {
          "base_uri": "https://localhost:8080/",
          "height": 0
        },
        "id": "77a32342",
        "outputId": "eae7114b-fb14-486c-beee-05d77f1b76d1"
      },
      "outputs": [
        {
          "output_type": "stream",
          "name": "stdout",
          "text": [
            "<class 'pandas.core.frame.DataFrame'>\n",
            "DatetimeIndex: 397 entries, 1985-12-01 to 2018-12-01\n",
            "Freq: MS\n",
            "Data columns (total 1 columns):\n",
            " #   Column   Non-Null Count  Dtype  \n",
            "---  ------   --------------  -----  \n",
            " 0   DogFood  397 non-null    float64\n",
            "dtypes: float64(1)\n",
            "memory usage: 6.2 KB\n"
          ]
        }
      ],
      "source": [
        "# смотрим общую информацию о датасете\n",
        "df.info()"
      ]
    },
    {
      "cell_type": "markdown",
      "id": "74972f89",
      "metadata": {
        "id": "74972f89"
      },
      "source": [
        "---\n",
        "Мы видим, что датасет соержит 397 записей и 1 колонку. Данные представляют собой индекс цен корма для собак в среднем за месяц, начиная с декабря 1985 года по декабрь 2018 года.\n",
        "\n",
        "---\n",
        "\n"
      ]
    },
    {
      "cell_type": "markdown",
      "id": "b6545d4f",
      "metadata": {
        "id": "b6545d4f"
      },
      "source": [
        "#### Динамика изменения индекса цен"
      ]
    },
    {
      "cell_type": "code",
      "execution_count": 7,
      "id": "5c804359",
      "metadata": {
        "colab": {
          "base_uri": "https://localhost:8080/",
          "height": 408
        },
        "id": "5c804359",
        "outputId": "631524bc-16f4-4e95-f89b-8d4c635e6e93"
      },
      "outputs": [
        {
          "output_type": "execute_result",
          "data": {
            "text/plain": [
              "[Text(0, 0.5, 'Стоимость 1 кг корма'), Text(0.5, 0, '')]"
            ]
          },
          "metadata": {},
          "execution_count": 7
        },
        {
          "output_type": "display_data",
          "data": {
            "text/plain": [
              "<Figure size 864x432 with 1 Axes>"
            ],
            "image/png": "[encoded data removed]"
          },
          "metadata": {
            "needs_background": "light"
          }
        }
      ],
      "source": [
        "# Добавим название графика и название оси Y\n",
        "title = 'Индекс цены корма для собак'\n",
        "ylabel = 'Стоимость 1 кг корма'\n",
        "xlabel = '' #по сравнению с ожидаемым результатом не указываем название оси Х\n",
        "\n",
        "ax = df['DogFood'].plot(figsize=(12,6),title=title)\n",
        "ax.autoscale(axis='x',tight=True)\n",
        "ax.set(xlabel=xlabel, ylabel=ylabel)"
      ]
    },
    {
      "cell_type": "markdown",
      "id": "b2309690",
      "metadata": {
        "id": "b2309690"
      },
      "source": [
        "---\n",
        "На графике виден отчетливый тренд - средний индекс цен постепенно растет, но в 2009 год происходит резкий \"скачок\" и, начиная с 2010 года индекс цен постепенно повышается.\n",
        "\n",
        "---\n",
        "\n",
        "\n",
        "\n",
        "\n"
      ]
    },
    {
      "cell_type": "code",
      "source": [
        "# отобразите результат\n",
        "r = seasonal_decompose(df['DogFood'], model='additive')\n",
        "\n",
        "r.plot();\n",
        "\n",
        "# обнаруживаем годовую сезонность"
      ],
      "metadata": {
        "colab": {
          "base_uri": "https://localhost:8080/",
          "height": 297
        },
        "id": "CRXwu4nRYOxJ",
        "outputId": "c856070a-201d-40a4-8aac-746cc33cbed3"
      },
      "id": "CRXwu4nRYOxJ",
      "execution_count": 61,
      "outputs": [
        {
          "output_type": "display_data",
          "data": {
            "text/plain": [
              "<Figure size 432x288 with 4 Axes>"
            ],
            "image/png": "[encoded data removed]"
          },
          "metadata": {
            "needs_background": "light"
          }
        }
      ]
    },
    {
      "cell_type": "markdown",
      "source": [
        "Полученные графики демонстрируют наличие сезонности, что подтверждает верность выбора модели прогнозирования SARIMA. Также видно, что тренд присутствует.\n",
        "\n",
        "---\n",
        "\n"
      ],
      "metadata": {
        "id": "CnXaCN3FY2LY"
      },
      "id": "CnXaCN3FY2LY"
    },
    {
      "cell_type": "markdown",
      "source": [
        "## Построение моделей"
      ],
      "metadata": {
        "id": "6MNM3rRf8LqC"
      },
      "id": "6MNM3rRf8LqC"
    },
    {
      "cell_type": "markdown",
      "source": [
        "### Рассмотрим прогноз SARIMA\n",
        "Запустим метод pmdarima.auto_arima чтобы получить набор параметров. Включим сезонность и укажем период сезонности равный 1 году."
      ],
      "metadata": {
        "id": "i8Mq34oE8RuD"
      },
      "id": "i8Mq34oE8RuD"
    },
    {
      "cell_type": "code",
      "execution_count": 8,
      "id": "e11cc0b5",
      "metadata": {
        "colab": {
          "base_uri": "https://localhost:8080/",
          "height": 440
        },
        "id": "e11cc0b5",
        "outputId": "a5ef3089-86a4-4bec-db07-76684eb96353"
      },
      "outputs": [
        {
          "output_type": "execute_result",
          "data": {
            "text/plain": [
              "<class 'statsmodels.iolib.summary.Summary'>\n",
              "\"\"\"\n",
              "                                     SARIMAX Results                                      \n",
              "==========================================================================================\n",
              "Dep. Variable:                                  y   No. Observations:                  397\n",
              "Model:             SARIMAX(1, 1, 0)x(1, 0, 0, 12)   Log Likelihood                -579.912\n",
              "Date:                            Fri, 25 Mar 2022   AIC                           1167.824\n",
              "Time:                                    06:36:25   BIC                           1183.750\n",
              "Sample:                                         0   HQIC                          1174.134\n",
              "                                            - 397                                         \n",
              "Covariance Type:                              opg                                         \n",
              "==============================================================================\n",
              "                 coef    std err          z      P>|z|      [0.025      0.975]\n",
              "------------------------------------------------------------------------------\n",
              "intercept      0.2380      0.078      3.059      0.002       0.086       0.391\n",
              "ar.L1          0.2423      0.024     10.126      0.000       0.195       0.289\n",
              "ar.S.L12       0.1018      0.049      2.075      0.038       0.006       0.198\n",
              "sigma2         1.0947      0.041     26.808      0.000       1.015       1.175\n",
              "===================================================================================\n",
              "Ljung-Box (L1) (Q):                   0.02   Jarque-Bera (JB):              5249.17\n",
              "Prob(Q):                              0.90   Prob(JB):                         0.00\n",
              "Heteroskedasticity (H):               4.35   Skew:                             3.14\n",
              "Prob(H) (two-sided):                  0.00   Kurtosis:                        19.70\n",
              "===================================================================================\n",
              "\n",
              "Warnings:\n",
              "[1] Covariance matrix calculated using the outer product of gradients (complex-step).\n",
              "\"\"\""
            ],
            "text/html": [
              "<table class=\"simpletable\">\n",
              "<caption>SARIMAX Results</caption>\n",
              "<tr>\n",
              "  <th>Dep. Variable:</th>                  <td>y</td>               <th>  No. Observations:  </th>    <td>397</td>  \n",
              "</tr>\n",
              "<tr>\n",
              "  <th>Model:</th>           <td>SARIMAX(1, 1, 0)x(1, 0, 0, 12)</td> <th>  Log Likelihood     </th> <td>-579.912</td>\n",
              "</tr>\n",
              "<tr>\n",
              "  <th>Date:</th>                   <td>Fri, 25 Mar 2022</td>        <th>  AIC                </th> <td>1167.824</td>\n",
              "</tr>\n",
              "<tr>\n",
              "  <th>Time:</th>                       <td>06:36:25</td>            <th>  BIC                </th> <td>1183.750</td>\n",
              "</tr>\n",
              "<tr>\n",
              "  <th>Sample:</th>                         <td>0</td>               <th>  HQIC               </th> <td>1174.134</td>\n",
              "</tr>\n",
              "<tr>\n",
              "  <th></th>                             <td> - 397</td>             <th>                     </th>     <td> </td>   \n",
              "</tr>\n",
              "<tr>\n",
              "  <th>Covariance Type:</th>               <td>opg</td>              <th>                     </th>     <td> </td>   \n",
              "</tr>\n",
              "</table>\n",
              "<table class=\"simpletable\">\n",
              "<tr>\n",
              "      <td></td>         <th>coef</th>     <th>std err</th>      <th>z</th>      <th>P>|z|</th>  <th>[0.025</th>    <th>0.975]</th>  \n",
              "</tr>\n",
              "<tr>\n",
              "  <th>intercept</th> <td>    0.2380</td> <td>    0.078</td> <td>    3.059</td> <td> 0.002</td> <td>    0.086</td> <td>    0.391</td>\n",
              "</tr>\n",
              "<tr>\n",
              "  <th>ar.L1</th>     <td>    0.2423</td> <td>    0.024</td> <td>   10.126</td> <td> 0.000</td> <td>    0.195</td> <td>    0.289</td>\n",
              "</tr>\n",
              "<tr>\n",
              "  <th>ar.S.L12</th>  <td>    0.1018</td> <td>    0.049</td> <td>    2.075</td> <td> 0.038</td> <td>    0.006</td> <td>    0.198</td>\n",
              "</tr>\n",
              "<tr>\n",
              "  <th>sigma2</th>    <td>    1.0947</td> <td>    0.041</td> <td>   26.808</td> <td> 0.000</td> <td>    1.015</td> <td>    1.175</td>\n",
              "</tr>\n",
              "</table>\n",
              "<table class=\"simpletable\">\n",
              "<tr>\n",
              "  <th>Ljung-Box (L1) (Q):</th>     <td>0.02</td> <th>  Jarque-Bera (JB):  </th> <td>5249.17</td>\n",
              "</tr>\n",
              "<tr>\n",
              "  <th>Prob(Q):</th>                <td>0.90</td> <th>  Prob(JB):          </th>  <td>0.00</td>  \n",
              "</tr>\n",
              "<tr>\n",
              "  <th>Heteroskedasticity (H):</th> <td>4.35</td> <th>  Skew:              </th>  <td>3.14</td>  \n",
              "</tr>\n",
              "<tr>\n",
              "  <th>Prob(H) (two-sided):</th>    <td>0.00</td> <th>  Kurtosis:          </th>  <td>19.70</td> \n",
              "</tr>\n",
              "</table><br/><br/>Warnings:<br/>[1] Covariance matrix calculated using the outer product of gradients (complex-step)."
            ]
          },
          "metadata": {},
          "execution_count": 8
        }
      ],
      "source": [
        "auto_arima(df['DogFood'],seasonal=True,m=12).summary()"
      ]
    },
    {
      "cell_type": "markdown",
      "source": [
        "---\n",
        "Используем для дальнейшего анализа: SARIMAX(1, 1, 0)x(1, 0, 0, 12).\n",
        "\n",
        "Трендовый и сезонный гиперпараметры указываются как кортежи из 3 и 4 элементов соответственно.\n",
        "\n",
        "SARIMAX (p, d , q)x(P, D, Q, m):\n",
        "* p - порядок авторегрессии тренда\n",
        "* d - порядок изменения тренда\n",
        "* q - тренд скользящей средней\n",
        "* P - сезонный порядок авторегрессии\n",
        "* D - порядок сезонных разниц\n",
        "* Q - сезонный порядок скользящих средних\n",
        "* m - количество временных шагов за один сезонный пеиод\n",
        "---\n",
        "\n"
      ],
      "metadata": {
        "id": "I4V1I_sk-TQ5"
      },
      "id": "I4V1I_sk-TQ5"
    },
    {
      "cell_type": "markdown",
      "source": [
        "Мы можем обучить нашу модель на данных до января 2018 (обучающая выборка), а на данных 2018 года (контрольная выборка) проверить, хорошо ли наша модель предсказывает. Разделим данные на обучающую и контрольную группы. Установим один год (12 записей) для тестирования"
      ],
      "metadata": {
        "id": "OWUytuui-4YZ"
      },
      "id": "OWUytuui-4YZ"
    },
    {
      "cell_type": "code",
      "source": [
        "train = df.iloc[:len(df)-12]   #обучающая выборка\n",
        "test = df.iloc[len(df)-12:]    #контрольная выборка"
      ],
      "metadata": {
        "id": "DBIAu6hv_Xth"
      },
      "id": "DBIAu6hv_Xth",
      "execution_count": 9,
      "outputs": []
    },
    {
      "cell_type": "markdown",
      "source": [
        "Обучим модель на подобранных параметрах SARIMAX(1, 1, 0)x(1, 0, 0, 12)."
      ],
      "metadata": {
        "id": "IdI8sfUsAH6F"
      },
      "id": "IdI8sfUsAH6F"
    },
    {
      "cell_type": "code",
      "source": [
        "model = SARIMAX(train['DogFood'],order=(1, 1, 0),seasonal_order=(1, 0, 0, 12)) #модель\n",
        "#обучаем модель на обучающей выборке данных\n",
        "results = model.fit()\n",
        "#получаем результаты\n",
        "results.summary()"
      ],
      "metadata": {
        "colab": {
          "base_uri": "https://localhost:8080/",
          "height": 419
        },
        "id": "XEib6k5qAIa5",
        "outputId": "5dc32cdf-2cf0-4289-a774-e798f42fcae1"
      },
      "id": "XEib6k5qAIa5",
      "execution_count": 10,
      "outputs": [
        {
          "output_type": "execute_result",
          "data": {
            "text/plain": [
              "<class 'statsmodels.iolib.summary.Summary'>\n",
              "\"\"\"\n",
              "                                     SARIMAX Results                                      \n",
              "==========================================================================================\n",
              "Dep. Variable:                            DogFood   No. Observations:                  385\n",
              "Model:             SARIMAX(1, 1, 0)x(1, 0, 0, 12)   Log Likelihood                -561.048\n",
              "Date:                            Fri, 25 Mar 2022   AIC                           1128.097\n",
              "Time:                                    06:36:42   BIC                           1139.949\n",
              "Sample:                                12-01-1985   HQIC                          1132.798\n",
              "                                     - 12-01-2017                                         \n",
              "Covariance Type:                              opg                                         \n",
              "==============================================================================\n",
              "                 coef    std err          z      P>|z|      [0.025      0.975]\n",
              "------------------------------------------------------------------------------\n",
              "ar.L1          0.3209      0.023     13.699      0.000       0.275       0.367\n",
              "ar.S.L12       0.1417      0.046      3.094      0.002       0.052       0.231\n",
              "sigma2         1.0869      0.031     35.514      0.000       1.027       1.147\n",
              "===================================================================================\n",
              "Ljung-Box (L1) (Q):                   1.41   Jarque-Bera (JB):              4880.65\n",
              "Prob(Q):                              0.24   Prob(JB):                         0.00\n",
              "Heteroskedasticity (H):               3.75   Skew:                             3.01\n",
              "Prob(H) (two-sided):                  0.00   Kurtosis:                        19.40\n",
              "===================================================================================\n",
              "\n",
              "Warnings:\n",
              "[1] Covariance matrix calculated using the outer product of gradients (complex-step).\n",
              "\"\"\""
            ],
            "text/html": [
              "<table class=\"simpletable\">\n",
              "<caption>SARIMAX Results</caption>\n",
              "<tr>\n",
              "  <th>Dep. Variable:</th>               <td>DogFood</td>            <th>  No. Observations:  </th>    <td>385</td>  \n",
              "</tr>\n",
              "<tr>\n",
              "  <th>Model:</th>           <td>SARIMAX(1, 1, 0)x(1, 0, 0, 12)</td> <th>  Log Likelihood     </th> <td>-561.048</td>\n",
              "</tr>\n",
              "<tr>\n",
              "  <th>Date:</th>                   <td>Fri, 25 Mar 2022</td>        <th>  AIC                </th> <td>1128.097</td>\n",
              "</tr>\n",
              "<tr>\n",
              "  <th>Time:</th>                       <td>06:36:42</td>            <th>  BIC                </th> <td>1139.949</td>\n",
              "</tr>\n",
              "<tr>\n",
              "  <th>Sample:</th>                    <td>12-01-1985</td>           <th>  HQIC               </th> <td>1132.798</td>\n",
              "</tr>\n",
              "<tr>\n",
              "  <th></th>                          <td>- 12-01-2017</td>          <th>                     </th>     <td> </td>   \n",
              "</tr>\n",
              "<tr>\n",
              "  <th>Covariance Type:</th>               <td>opg</td>              <th>                     </th>     <td> </td>   \n",
              "</tr>\n",
              "</table>\n",
              "<table class=\"simpletable\">\n",
              "<tr>\n",
              "      <td></td>        <th>coef</th>     <th>std err</th>      <th>z</th>      <th>P>|z|</th>  <th>[0.025</th>    <th>0.975]</th>  \n",
              "</tr>\n",
              "<tr>\n",
              "  <th>ar.L1</th>    <td>    0.3209</td> <td>    0.023</td> <td>   13.699</td> <td> 0.000</td> <td>    0.275</td> <td>    0.367</td>\n",
              "</tr>\n",
              "<tr>\n",
              "  <th>ar.S.L12</th> <td>    0.1417</td> <td>    0.046</td> <td>    3.094</td> <td> 0.002</td> <td>    0.052</td> <td>    0.231</td>\n",
              "</tr>\n",
              "<tr>\n",
              "  <th>sigma2</th>   <td>    1.0869</td> <td>    0.031</td> <td>   35.514</td> <td> 0.000</td> <td>    1.027</td> <td>    1.147</td>\n",
              "</tr>\n",
              "</table>\n",
              "<table class=\"simpletable\">\n",
              "<tr>\n",
              "  <th>Ljung-Box (L1) (Q):</th>     <td>1.41</td> <th>  Jarque-Bera (JB):  </th> <td>4880.65</td>\n",
              "</tr>\n",
              "<tr>\n",
              "  <th>Prob(Q):</th>                <td>0.24</td> <th>  Prob(JB):          </th>  <td>0.00</td>  \n",
              "</tr>\n",
              "<tr>\n",
              "  <th>Heteroskedasticity (H):</th> <td>3.75</td> <th>  Skew:              </th>  <td>3.01</td>  \n",
              "</tr>\n",
              "<tr>\n",
              "  <th>Prob(H) (two-sided):</th>    <td>0.00</td> <th>  Kurtosis:          </th>  <td>19.40</td> \n",
              "</tr>\n",
              "</table><br/><br/>Warnings:<br/>[1] Covariance matrix calculated using the outer product of gradients (complex-step)."
            ]
          },
          "metadata": {},
          "execution_count": 10
        }
      ]
    },
    {
      "cell_type": "markdown",
      "source": [
        "Получаем прогнозируемые значения и пытаемся оценить качество прогноза:"
      ],
      "metadata": {
        "id": "-3pT_2YKBti0"
      },
      "id": "-3pT_2YKBti0"
    },
    {
      "cell_type": "code",
      "source": [
        "start=len(train) #первая точка в тестовом множестве\n",
        "end=len(train)+len(test)-1 #последняя точка в тестовом множеств\n",
        "\n",
        "#предсказываем значения,передав модели results точку начала и окончания на указанном периоде\n",
        "predictions = results.predict(start=start, end=end, dynamic=False, typ='levels').rename('Прогноз SARIMAX(1, 1, 0)x(1, 0, 0, 12)')"
      ],
      "metadata": {
        "id": "a0r2tLIZBYQf"
      },
      "id": "a0r2tLIZBYQf",
      "execution_count": 11,
      "outputs": []
    },
    {
      "cell_type": "markdown",
      "source": [
        "Выведем на график прогнозируемые и тестовые значения"
      ],
      "metadata": {
        "id": "OJ2RxL-nKag5"
      },
      "id": "OJ2RxL-nKag5"
    },
    {
      "cell_type": "code",
      "source": [
        "#Сравниваем прогнозируемые и тестовые значения\n",
        "title = 'Индекс цены корма для собак'\n",
        "ylabel = 'Стоимость 1 кг корма'\n",
        "xlabel = '' \n",
        "\n",
        "ax = test['DogFood'].plot(legend=True,  figsize=(20,10),title=title)\n",
        "predictions.plot(legend=True)\n",
        "ax.autoscale(axis='x',tight=True)\n",
        "ax.set(xlabel=xlabel, ylabel=ylabel)"
      ],
      "metadata": {
        "colab": {
          "base_uri": "https://localhost:8080/",
          "height": 637
        },
        "id": "DuvC0ngyFL7l",
        "outputId": "dee7ab9b-b955-4cfb-e299-a7c6267d7cc5"
      },
      "id": "DuvC0ngyFL7l",
      "execution_count": 14,
      "outputs": [
        {
          "output_type": "execute_result",
          "data": {
            "text/plain": [
              "[Text(0, 0.5, 'Стоимость 1 кг корма'), Text(0.5, 0, '')]"
            ]
          },
          "metadata": {},
          "execution_count": 14
        },
        {
          "output_type": "display_data",
          "data": {
            "text/plain": [
              "<Figure size 1440x720 with 1 Axes>"
            ],
            "image/png": "[encoded data removed]"
          },
          "metadata": {
            "needs_background": "light"
          }
        }
      ]
    },
    {
      "cell_type": "markdown",
      "source": [
        "На данном промежутке времени мы видим небольшую регрессию по сезону и по тренду (пример случайного тренда)"
      ],
      "metadata": {
        "id": "jO43RS1-I1M8"
      },
      "id": "jO43RS1-I1M8"
    },
    {
      "cell_type": "code",
      "source": [
        "# Оценим качество полученного прогноза на тестовой выборке с помощью метрик MSE, RMSE и MAPE\n",
        "mse_value = mean_squared_error(test['DogFood'], predictions) #Cреднеквадратичная ошибка\n",
        "rmse_value = rmse(test['DogFood'], predictions) #Квадратный корень из среднеквадратичной ошибки\n",
        "mape_error = np.mean(np.abs(predictions - test['DogFood'])/test['DogFood'])*100 #Cредняя абсолютная ошибка в процентах\n",
        "\n",
        "print(f'SARIMA(1, 1, 0)x(1, 0, 0, 12) MSE Error: {mse_value:11.10}')\n",
        "print(f'SARIMA(1, 1, 0)x(1, 0, 0, 12) RMSE Error: {rmse_value:11.10}')\n",
        "print(f'SARIMA(1, 1, 0)x(1, 0, 0, 12) MAPE Error: {mape_error:11.10}')"
      ],
      "metadata": {
        "colab": {
          "base_uri": "https://localhost:8080/",
          "height": 0
        },
        "id": "Ply8oi34IPqV",
        "outputId": "c0298827-e03e-494a-ffae-3f368a0d3e2f"
      },
      "id": "Ply8oi34IPqV",
      "execution_count": 13,
      "outputs": [
        {
          "output_type": "stream",
          "name": "stdout",
          "text": [
            "SARIMA(1, 1, 0)x(1, 0, 0, 12) MSE Error: 25.39034039\n",
            "SARIMA(1, 1, 0)x(1, 0, 0, 12) RMSE Error: 5.038882851\n",
            "SARIMA(1, 1, 0)x(1, 0, 0, 12) MAPE Error: 1.988859125\n"
          ]
        }
      ]
    },
    {
      "cell_type": "markdown",
      "source": [
        "Качество получаемого прогноза в тестовой выборке по средней абсолютной ошибке составляет приблизительно 1,99 %"
      ],
      "metadata": {
        "id": "JH0eL5nTQVT5"
      },
      "id": "JH0eL5nTQVT5"
    },
    {
      "cell_type": "markdown",
      "source": [
        "### Т.о. натренеруем модель на полном датасете и составим прогноз на год вперед"
      ],
      "metadata": {
        "id": "VijHJ7RaROGW"
      },
      "id": "VijHJ7RaROGW"
    },
    {
      "cell_type": "code",
      "source": [
        "model = SARIMAX(df['DogFood'], order=(1, 1, 0),seasonal_order=(1, 0, 0, 12))\n",
        "results = model.fit()\n",
        "results.summary()"
      ],
      "metadata": {
        "colab": {
          "base_uri": "https://localhost:8080/",
          "height": 419
        },
        "id": "Wb3WGvoLQU6R",
        "outputId": "4f70402d-fc46-45f2-968e-db507342a7f3"
      },
      "id": "Wb3WGvoLQU6R",
      "execution_count": null,
      "outputs": [
        {
          "output_type": "execute_result",
          "data": {
            "text/plain": [
              "<class 'statsmodels.iolib.summary.Summary'>\n",
              "\"\"\"\n",
              "                                     SARIMAX Results                                      \n",
              "==========================================================================================\n",
              "Dep. Variable:                            DogFood   No. Observations:                  397\n",
              "Model:             SARIMAX(1, 1, 0)x(1, 0, 0, 12)   Log Likelihood                -588.813\n",
              "Date:                            Thu, 24 Mar 2022   AIC                           1183.625\n",
              "Time:                                    23:34:59   BIC                           1195.570\n",
              "Sample:                                12-01-1985   HQIC                          1188.357\n",
              "                                     - 12-01-2018                                         \n",
              "Covariance Type:                              opg                                         \n",
              "==============================================================================\n",
              "                 coef    std err          z      P>|z|      [0.025      0.975]\n",
              "------------------------------------------------------------------------------\n",
              "ar.L1          0.2954      0.024     12.136      0.000       0.248       0.343\n",
              "ar.S.L12       0.1472      0.048      3.079      0.002       0.054       0.241\n",
              "sigma2         1.1446      0.033     34.827      0.000       1.080       1.209\n",
              "===================================================================================\n",
              "Ljung-Box (L1) (Q):                   1.60   Jarque-Bera (JB):              4445.74\n",
              "Prob(Q):                              0.21   Prob(JB):                         0.00\n",
              "Heteroskedasticity (H):               4.19   Skew:                             2.96\n",
              "Prob(H) (two-sided):                  0.00   Kurtosis:                        18.31\n",
              "===================================================================================\n",
              "\n",
              "Warnings:\n",
              "[1] Covariance matrix calculated using the outer product of gradients (complex-step).\n",
              "\"\"\""
            ],
            "text/html": [
              "<table class=\"simpletable\">\n",
              "<caption>SARIMAX Results</caption>\n",
              "<tr>\n",
              "  <th>Dep. Variable:</th>               <td>DogFood</td>            <th>  No. Observations:  </th>    <td>397</td>  \n",
              "</tr>\n",
              "<tr>\n",
              "  <th>Model:</th>           <td>SARIMAX(1, 1, 0)x(1, 0, 0, 12)</td> <th>  Log Likelihood     </th> <td>-588.813</td>\n",
              "</tr>\n",
              "<tr>\n",
              "  <th>Date:</th>                   <td>Thu, 24 Mar 2022</td>        <th>  AIC                </th> <td>1183.625</td>\n",
              "</tr>\n",
              "<tr>\n",
              "  <th>Time:</th>                       <td>23:34:59</td>            <th>  BIC                </th> <td>1195.570</td>\n",
              "</tr>\n",
              "<tr>\n",
              "  <th>Sample:</th>                    <td>12-01-1985</td>           <th>  HQIC               </th> <td>1188.357</td>\n",
              "</tr>\n",
              "<tr>\n",
              "  <th></th>                          <td>- 12-01-2018</td>          <th>                     </th>     <td> </td>   \n",
              "</tr>\n",
              "<tr>\n",
              "  <th>Covariance Type:</th>               <td>opg</td>              <th>                     </th>     <td> </td>   \n",
              "</tr>\n",
              "</table>\n",
              "<table class=\"simpletable\">\n",
              "<tr>\n",
              "      <td></td>        <th>coef</th>     <th>std err</th>      <th>z</th>      <th>P>|z|</th>  <th>[0.025</th>    <th>0.975]</th>  \n",
              "</tr>\n",
              "<tr>\n",
              "  <th>ar.L1</th>    <td>    0.2954</td> <td>    0.024</td> <td>   12.136</td> <td> 0.000</td> <td>    0.248</td> <td>    0.343</td>\n",
              "</tr>\n",
              "<tr>\n",
              "  <th>ar.S.L12</th> <td>    0.1472</td> <td>    0.048</td> <td>    3.079</td> <td> 0.002</td> <td>    0.054</td> <td>    0.241</td>\n",
              "</tr>\n",
              "<tr>\n",
              "  <th>sigma2</th>   <td>    1.1446</td> <td>    0.033</td> <td>   34.827</td> <td> 0.000</td> <td>    1.080</td> <td>    1.209</td>\n",
              "</tr>\n",
              "</table>\n",
              "<table class=\"simpletable\">\n",
              "<tr>\n",
              "  <th>Ljung-Box (L1) (Q):</th>     <td>1.60</td> <th>  Jarque-Bera (JB):  </th> <td>4445.74</td>\n",
              "</tr>\n",
              "<tr>\n",
              "  <th>Prob(Q):</th>                <td>0.21</td> <th>  Prob(JB):          </th>  <td>0.00</td>  \n",
              "</tr>\n",
              "<tr>\n",
              "  <th>Heteroskedasticity (H):</th> <td>4.19</td> <th>  Skew:              </th>  <td>2.96</td>  \n",
              "</tr>\n",
              "<tr>\n",
              "  <th>Prob(H) (two-sided):</th>    <td>0.00</td> <th>  Kurtosis:          </th>  <td>18.31</td> \n",
              "</tr>\n",
              "</table><br/><br/>Warnings:<br/>[1] Covariance matrix calculated using the outer product of gradients (complex-step)."
            ]
          },
          "metadata": {},
          "execution_count": 36
        }
      ]
    },
    {
      "cell_type": "markdown",
      "source": [
        "Задаем точки следующего года:"
      ],
      "metadata": {
        "id": "K99bA8NJSPuo"
      },
      "id": "K99bA8NJSPuo"
    },
    {
      "cell_type": "code",
      "source": [
        "fcast = results.predict(len(df)-1,len(df)+11,typ='levels').rename('SARIMAX(1, 1, 0)x(1, 0, 0, 12) Прогноз')\n",
        "\n",
        "#построим график предсказаний\n",
        "fcast.plot()"
      ],
      "metadata": {
        "colab": {
          "base_uri": "https://localhost:8080/",
          "height": 295
        },
        "id": "nooPur0ISWC9",
        "outputId": "ffb5ccd6-d396-4721-a67b-4f63cacc09b8"
      },
      "id": "nooPur0ISWC9",
      "execution_count": null,
      "outputs": [
        {
          "output_type": "execute_result",
          "data": {
            "text/plain": [
              "<matplotlib.axes._subplots.AxesSubplot at 0x7f258cd7ee10>"
            ]
          },
          "metadata": {},
          "execution_count": 47
        },
        {
          "output_type": "display_data",
          "data": {
            "text/plain": [
              "<Figure size 432x288 with 1 Axes>"
            ],
            "image/png": "[encoded data removed]"
          },
          "metadata": {
            "needs_background": "light"
          }
        }
      ]
    },
    {
      "cell_type": "code",
      "source": [
        "# Построим общий график с исходными и прогнозными значениями на 1 год\n",
        "title = 'Индекс цены корма для собак'\n",
        "ylabel = 'Стоимость 1 кг корма'\n",
        "xlabel = '' #по сравнению с ожидаемым результатом не указываем название оси Х\n",
        "\n",
        "ax = df['DogFood'].plot(figsize=(12,6),title=title)\n",
        "fcast.plot(legend = True)\n",
        "ax.autoscale(axis= 'x', tight = True)\n",
        "ax.set(xlabel = xlabel, ylabel = ylabel)"
      ],
      "metadata": {
        "colab": {
          "base_uri": "https://localhost:8080/",
          "height": 408
        },
        "id": "6TNu5zJ5S-tR",
        "outputId": "b096361b-5a63-4d55-fe19-61314626267a"
      },
      "id": "6TNu5zJ5S-tR",
      "execution_count": null,
      "outputs": [
        {
          "output_type": "execute_result",
          "data": {
            "text/plain": [
              "[Text(0, 0.5, 'Стоимость 1 кг корма'), Text(0.5, 0, '')]"
            ]
          },
          "metadata": {},
          "execution_count": 48
        },
        {
          "output_type": "display_data",
          "data": {
            "text/plain": [
              "<Figure size 864x432 with 1 Axes>"
            ],
            "image/png": "[encoded data removed]"
          },
          "metadata": {
            "needs_background": "light"
          }
        }
      ]
    },
    {
      "cell_type": "markdown",
      "source": [
        "## Выводы по модели SARIMA:\n",
        "Полученные результаты являются удовлетворительными:\n",
        "\n",
        "По результатам видно примерное соответствие графиков прогнозной и тестовой выборок.\n",
        "Cредняя абсолютная ошибка в процентах приблизительно равна 1,99%, что также достаточно неплохо.\n",
        "Модель предсказывает сохранение сезонности и стабильной регрессии в последующие 12 месяцев. Т.о. модель может быть использована в работе для дальнейшего прогнозирования."
      ],
      "metadata": {
        "id": "nl8kneQtVO8q"
      },
      "id": "nl8kneQtVO8q"
    },
    {
      "cell_type": "markdown",
      "source": [
        "## Построим модель и прогноз, используя билиотеку Prophet"
      ],
      "metadata": {
        "id": "lSr8FGYKBMpr"
      },
      "id": "lSr8FGYKBMpr"
    },
    {
      "cell_type": "code",
      "source": [
        "#Создадим model_2, присвоив ей объект Prophet()\n",
        "model = Prophet()\n",
        "model"
      ],
      "metadata": {
        "colab": {
          "base_uri": "https://localhost:8080/",
          "height": 0
        },
        "id": "TFPIIDxpEjRV",
        "outputId": "f67ea77b-4d06-4d24-b7ca-9b94b606a2f2"
      },
      "id": "TFPIIDxpEjRV",
      "execution_count": 45,
      "outputs": [
        {
          "output_type": "execute_result",
          "data": {
            "text/plain": [
              "<fbprophet.forecaster.Prophet at 0x7fd0bf3ae790>"
            ]
          },
          "metadata": {},
          "execution_count": 45
        }
      ]
    },
    {
      "cell_type": "markdown",
      "source": [
        "Устанавливаем нужные нам поля. Датасеты обучающей и тестовой выборок проиндексированы по дате, поэтому для прямого обращения к атрибуту date сбросим индексы"
      ],
      "metadata": {
        "id": "klEKEOidCaEP"
      },
      "id": "klEKEOidCaEP"
    },
    {
      "cell_type": "code",
      "source": [
        "train_0 = train.reset_index() #Индекс сбросим, чтобы работать только с колонками.\n",
        "test_0 = test.reset_index() #Индекс сбросим, чтобы работать только с колонками."
      ],
      "metadata": {
        "id": "DhWdH9BLTKs7"
      },
      "id": "DhWdH9BLTKs7",
      "execution_count": 46,
      "outputs": []
    },
    {
      "cell_type": "code",
      "source": [
        "# Переименуем столбцы в обучающем и тестовом датасетах, чтобы они подходили для использования методов Prophet\n",
        "# ds — временная гранула, в нашем случае месяцы\n",
        "# y — значения, которые будем предсказывать, в нашем случае индекс цены\n",
        "train_0.columns = ['ds', 'y']\n",
        "test_0.columns = ['ds', 'y']"
      ],
      "metadata": {
        "id": "DSzf0EdVD6Hw"
      },
      "id": "DSzf0EdVD6Hw",
      "execution_count": 49,
      "outputs": []
    },
    {
      "cell_type": "code",
      "source": [
        "train_0.head() #посмотрим преобразование после переименования колонок"
      ],
      "metadata": {
        "colab": {
          "base_uri": "https://localhost:8080/",
          "height": 206
        },
        "id": "Dgt2tKbqEGJT",
        "outputId": "10d822a0-72bf-4bd4-dca5-d2a7f8b474ea"
      },
      "id": "Dgt2tKbqEGJT",
      "execution_count": 50,
      "outputs": [
        {
          "output_type": "execute_result",
          "data": {
            "text/plain": [
              "          ds      y\n",
              "0 1985-12-01  100.0\n",
              "1 1986-01-01  100.2\n",
              "2 1986-02-01  100.3\n",
              "3 1986-03-01  100.2\n",
              "4 1986-04-01  100.7"
            ],
            "text/html": [
              "\n",
              "  <div id=\"df-d02d513f-56e8-4e64-b3ff-b8e616b56939\">\n",
              "    <div class=\"colab-df-container\">\n",
              "      <div>\n",
              "<style scoped>\n",
              "    .dataframe tbody tr th:only-of-type {\n",
              "        vertical-align: middle;\n",
              "    }\n",
              "\n",
              "    .dataframe tbody tr th {\n",
              "        vertical-align: top;\n",
              "    }\n",
              "\n",
              "    .dataframe thead th {\n",
              "        text-align: right;\n",
              "    }\n",
              "</style>\n",
              "<table border=\"1\" class=\"dataframe\">\n",
              "  <thead>\n",
              "    <tr style=\"text-align: right;\">\n",
              "      <th></th>\n",
              "      <th>ds</th>\n",
              "      <th>y</th>\n",
              "    </tr>\n",
              "  </thead>\n",
              "  <tbody>\n",
              "    <tr>\n",
              "      <th>0</th>\n",
              "      <td>1985-12-01</td>\n",
              "      <td>100.0</td>\n",
              "    </tr>\n",
              "    <tr>\n",
              "      <th>1</th>\n",
              "      <td>1986-01-01</td>\n",
              "      <td>100.2</td>\n",
              "    </tr>\n",
              "    <tr>\n",
              "      <th>2</th>\n",
              "      <td>1986-02-01</td>\n",
              "      <td>100.3</td>\n",
              "    </tr>\n",
              "    <tr>\n",
              "      <th>3</th>\n",
              "      <td>1986-03-01</td>\n",
              "      <td>100.2</td>\n",
              "    </tr>\n",
              "    <tr>\n",
              "      <th>4</th>\n",
              "      <td>1986-04-01</td>\n",
              "      <td>100.7</td>\n",
              "    </tr>\n",
              "  </tbody>\n",
              "</table>\n",
              "</div>\n",
              "      <button class=\"colab-df-convert\" onclick=\"convertToInteractive('df-d02d513f-56e8-4e64-b3ff-b8e616b56939')\"\n",
              "              title=\"Convert this dataframe to an interactive table.\"\n",
              "              style=\"display:none;\">\n",
              "        \n",
              "  <svg xmlns=\"http://www.w3.org/2000/svg\" height=\"24px\"viewBox=\"0 0 24 24\"\n",
              "       width=\"24px\">\n",
              "    <path d=\"M0 0h24v24H0V0z\" fill=\"none\"/>\n",
              "    <path d=\"M18.56 5.44l.94 2.06.94-2.06 2.06-.94-2.06-.94-.94-2.06-.94 2.06-2.06.94zm-11 1L8.5 8.5l.94-2.06 2.06-.94-2.06-.94L8.5 2.5l-.94 2.06-2.06.94zm10 10l.94 2.06.94-2.06 2.06-.94-2.06-.94-.94-2.06-.94 2.06-2.06.94z\"/><path d=\"M17.41 7.96l-1.37-1.37c-.4-.4-.92-.59-1.43-.59-.52 0-1.04.2-1.43.59L10.3 9.45l-7.72 7.72c-.78.78-.78 2.05 0 2.83L4 21.41c.39.39.9.59 1.41.59.51 0 1.02-.2 1.41-.59l7.78-7.78 2.81-2.81c.8-.78.8-2.07 0-2.86zM5.41 20L4 18.59l7.72-7.72 1.47 1.35L5.41 20z\"/>\n",
              "  </svg>\n",
              "      </button>\n",
              "      \n",
              "  <style>\n",
              "    .colab-df-container {\n",
              "      display:flex;\n",
              "      flex-wrap:wrap;\n",
              "      gap: 12px;\n",
              "    }\n",
              "\n",
              "    .colab-df-convert {\n",
              "      background-color: #E8F0FE;\n",
              "      border: none;\n",
              "      border-radius: 50%;\n",
              "      cursor: pointer;\n",
              "      display: none;\n",
              "      fill: #1967D2;\n",
              "      height: 32px;\n",
              "      padding: 0 0 0 0;\n",
              "      width: 32px;\n",
              "    }\n",
              "\n",
              "    .colab-df-convert:hover {\n",
              "      background-color: #E2EBFA;\n",
              "      box-shadow: 0px 1px 2px rgba(60, 64, 67, 0.3), 0px 1px 3px 1px rgba(60, 64, 67, 0.15);\n",
              "      fill: #174EA6;\n",
              "    }\n",
              "\n",
              "    [theme=dark] .colab-df-convert {\n",
              "      background-color: #3B4455;\n",
              "      fill: #D2E3FC;\n",
              "    }\n",
              "\n",
              "    [theme=dark] .colab-df-convert:hover {\n",
              "      background-color: #434B5C;\n",
              "      box-shadow: 0px 1px 3px 1px rgba(0, 0, 0, 0.15);\n",
              "      filter: drop-shadow(0px 1px 2px rgba(0, 0, 0, 0.3));\n",
              "      fill: #FFFFFF;\n",
              "    }\n",
              "  </style>\n",
              "\n",
              "      <script>\n",
              "        const buttonEl =\n",
              "          document.querySelector('#df-d02d513f-56e8-4e64-b3ff-b8e616b56939 button.colab-df-convert');\n",
              "        buttonEl.style.display =\n",
              "          google.colab.kernel.accessAllowed ? 'block' : 'none';\n",
              "\n",
              "        async function convertToInteractive(key) {\n",
              "          const element = document.querySelector('#df-d02d513f-56e8-4e64-b3ff-b8e616b56939');\n",
              "          const dataTable =\n",
              "            await google.colab.kernel.invokeFunction('convertToInteractive',\n",
              "                                                     [key], {});\n",
              "          if (!dataTable) return;\n",
              "\n",
              "          const docLinkHtml = 'Like what you see? Visit the ' +\n",
              "            '<a target=\"_blank\" href=https://colab.research.google.com/notebooks/data_table.ipynb>data table notebook</a>'\n",
              "            + ' to learn more about interactive tables.';\n",
              "          element.innerHTML = '';\n",
              "          dataTable['output_type'] = 'display_data';\n",
              "          await google.colab.output.renderOutput(dataTable, element);\n",
              "          const docLink = document.createElement('div');\n",
              "          docLink.innerHTML = docLinkHtml;\n",
              "          element.appendChild(docLink);\n",
              "        }\n",
              "      </script>\n",
              "    </div>\n",
              "  </div>\n",
              "  "
            ]
          },
          "metadata": {},
          "execution_count": 50
        }
      ]
    },
    {
      "cell_type": "code",
      "source": [
        "model.fit(train_0) # подогнали модель под наши данные"
      ],
      "metadata": {
        "colab": {
          "base_uri": "https://localhost:8080/",
          "height": 0
        },
        "id": "fi4KCEHrD_mO",
        "outputId": "e9a7b974-aca1-4b06-b93d-11654157441c"
      },
      "id": "fi4KCEHrD_mO",
      "execution_count": 51,
      "outputs": [
        {
          "output_type": "stream",
          "name": "stderr",
          "text": [
            "INFO:fbprophet:Disabling weekly seasonality. Run prophet with weekly_seasonality=True to override this.\n",
            "INFO:fbprophet:Disabling daily seasonality. Run prophet with daily_seasonality=True to override this.\n"
          ]
        },
        {
          "output_type": "execute_result",
          "data": {
            "text/plain": [
              "<fbprophet.forecaster.Prophet at 0x7fd0bf3ae790>"
            ]
          },
          "metadata": {},
          "execution_count": 51
        }
      ]
    },
    {
      "cell_type": "markdown",
      "source": [
        "Алгоритмом обнаружена годовая сезонность, которая используется при настройке модели. Не учитывается недельная и дневная сезонность. Для учета недельной сезонности для модели необходимо иметь данные минимум за месяц, а для дневной - данные по часам/минутам.\n",
        "\n",
        "---\n",
        "\n"
      ],
      "metadata": {
        "id": "-6etZk4MGJ09"
      },
      "id": "-6etZk4MGJ09"
    },
    {
      "cell_type": "markdown",
      "source": [
        "### Качество модели\n",
        "Посмотрим на качество получившейся модели. Для этого нам необходимо задать горизонт прогнозирования (в нашем случае это год) и создать дата-фрейм с датами из «будущего», для которого модель потом будет строить прогноз.\n",
        "Так как наши данные имеют месячную гранулярность, прогноз мы также получим по месяцам от последней даты на количество месяцев, указанное в скобках."
      ],
      "metadata": {
        "id": "V4KMvd8LHmXE"
      },
      "id": "V4KMvd8LHmXE"
    },
    {
      "cell_type": "code",
      "source": [
        "future = model.make_future_dataframe(periods=12, freq='MS') # говорим профету сделать дата-фрейм на 12 месяцев\n",
        "future.tail(12) # выводим 12 последних месяцев"
      ],
      "metadata": {
        "colab": {
          "base_uri": "https://localhost:8080/",
          "height": 426
        },
        "id": "e7CwmPZ3EGPr",
        "outputId": "b66e5e64-f2e6-441b-c2e3-22bc2a2a5a40"
      },
      "id": "e7CwmPZ3EGPr",
      "execution_count": 52,
      "outputs": [
        {
          "output_type": "execute_result",
          "data": {
            "text/plain": [
              "            ds\n",
              "385 2018-01-01\n",
              "386 2018-02-01\n",
              "387 2018-03-01\n",
              "388 2018-04-01\n",
              "389 2018-05-01\n",
              "390 2018-06-01\n",
              "391 2018-07-01\n",
              "392 2018-08-01\n",
              "393 2018-09-01\n",
              "394 2018-10-01\n",
              "395 2018-11-01\n",
              "396 2018-12-01"
            ],
            "text/html": [
              "\n",
              "  <div id=\"df-ffc368c0-16a8-4c63-afe4-e3cd2ee2ef24\">\n",
              "    <div class=\"colab-df-container\">\n",
              "      <div>\n",
              "<style scoped>\n",
              "    .dataframe tbody tr th:only-of-type {\n",
              "        vertical-align: middle;\n",
              "    }\n",
              "\n",
              "    .dataframe tbody tr th {\n",
              "        vertical-align: top;\n",
              "    }\n",
              "\n",
              "    .dataframe thead th {\n",
              "        text-align: right;\n",
              "    }\n",
              "</style>\n",
              "<table border=\"1\" class=\"dataframe\">\n",
              "  <thead>\n",
              "    <tr style=\"text-align: right;\">\n",
              "      <th></th>\n",
              "      <th>ds</th>\n",
              "    </tr>\n",
              "  </thead>\n",
              "  <tbody>\n",
              "    <tr>\n",
              "      <th>385</th>\n",
              "      <td>2018-01-01</td>\n",
              "    </tr>\n",
              "    <tr>\n",
              "      <th>386</th>\n",
              "      <td>2018-02-01</td>\n",
              "    </tr>\n",
              "    <tr>\n",
              "      <th>387</th>\n",
              "      <td>2018-03-01</td>\n",
              "    </tr>\n",
              "    <tr>\n",
              "      <th>388</th>\n",
              "      <td>2018-04-01</td>\n",
              "    </tr>\n",
              "    <tr>\n",
              "      <th>389</th>\n",
              "      <td>2018-05-01</td>\n",
              "    </tr>\n",
              "    <tr>\n",
              "      <th>390</th>\n",
              "      <td>2018-06-01</td>\n",
              "    </tr>\n",
              "    <tr>\n",
              "      <th>391</th>\n",
              "      <td>2018-07-01</td>\n",
              "    </tr>\n",
              "    <tr>\n",
              "      <th>392</th>\n",
              "      <td>2018-08-01</td>\n",
              "    </tr>\n",
              "    <tr>\n",
              "      <th>393</th>\n",
              "      <td>2018-09-01</td>\n",
              "    </tr>\n",
              "    <tr>\n",
              "      <th>394</th>\n",
              "      <td>2018-10-01</td>\n",
              "    </tr>\n",
              "    <tr>\n",
              "      <th>395</th>\n",
              "      <td>2018-11-01</td>\n",
              "    </tr>\n",
              "    <tr>\n",
              "      <th>396</th>\n",
              "      <td>2018-12-01</td>\n",
              "    </tr>\n",
              "  </tbody>\n",
              "</table>\n",
              "</div>\n",
              "      <button class=\"colab-df-convert\" onclick=\"convertToInteractive('df-ffc368c0-16a8-4c63-afe4-e3cd2ee2ef24')\"\n",
              "              title=\"Convert this dataframe to an interactive table.\"\n",
              "              style=\"display:none;\">\n",
              "        \n",
              "  <svg xmlns=\"http://www.w3.org/2000/svg\" height=\"24px\"viewBox=\"0 0 24 24\"\n",
              "       width=\"24px\">\n",
              "    <path d=\"M0 0h24v24H0V0z\" fill=\"none\"/>\n",
              "    <path d=\"M18.56 5.44l.94 2.06.94-2.06 2.06-.94-2.06-.94-.94-2.06-.94 2.06-2.06.94zm-11 1L8.5 8.5l.94-2.06 2.06-.94-2.06-.94L8.5 2.5l-.94 2.06-2.06.94zm10 10l.94 2.06.94-2.06 2.06-.94-2.06-.94-.94-2.06-.94 2.06-2.06.94z\"/><path d=\"M17.41 7.96l-1.37-1.37c-.4-.4-.92-.59-1.43-.59-.52 0-1.04.2-1.43.59L10.3 9.45l-7.72 7.72c-.78.78-.78 2.05 0 2.83L4 21.41c.39.39.9.59 1.41.59.51 0 1.02-.2 1.41-.59l7.78-7.78 2.81-2.81c.8-.78.8-2.07 0-2.86zM5.41 20L4 18.59l7.72-7.72 1.47 1.35L5.41 20z\"/>\n",
              "  </svg>\n",
              "      </button>\n",
              "      \n",
              "  <style>\n",
              "    .colab-df-container {\n",
              "      display:flex;\n",
              "      flex-wrap:wrap;\n",
              "      gap: 12px;\n",
              "    }\n",
              "\n",
              "    .colab-df-convert {\n",
              "      background-color: #E8F0FE;\n",
              "      border: none;\n",
              "      border-radius: 50%;\n",
              "      cursor: pointer;\n",
              "      display: none;\n",
              "      fill: #1967D2;\n",
              "      height: 32px;\n",
              "      padding: 0 0 0 0;\n",
              "      width: 32px;\n",
              "    }\n",
              "\n",
              "    .colab-df-convert:hover {\n",
              "      background-color: #E2EBFA;\n",
              "      box-shadow: 0px 1px 2px rgba(60, 64, 67, 0.3), 0px 1px 3px 1px rgba(60, 64, 67, 0.15);\n",
              "      fill: #174EA6;\n",
              "    }\n",
              "\n",
              "    [theme=dark] .colab-df-convert {\n",
              "      background-color: #3B4455;\n",
              "      fill: #D2E3FC;\n",
              "    }\n",
              "\n",
              "    [theme=dark] .colab-df-convert:hover {\n",
              "      background-color: #434B5C;\n",
              "      box-shadow: 0px 1px 3px 1px rgba(0, 0, 0, 0.15);\n",
              "      filter: drop-shadow(0px 1px 2px rgba(0, 0, 0, 0.3));\n",
              "      fill: #FFFFFF;\n",
              "    }\n",
              "  </style>\n",
              "\n",
              "      <script>\n",
              "        const buttonEl =\n",
              "          document.querySelector('#df-ffc368c0-16a8-4c63-afe4-e3cd2ee2ef24 button.colab-df-convert');\n",
              "        buttonEl.style.display =\n",
              "          google.colab.kernel.accessAllowed ? 'block' : 'none';\n",
              "\n",
              "        async function convertToInteractive(key) {\n",
              "          const element = document.querySelector('#df-ffc368c0-16a8-4c63-afe4-e3cd2ee2ef24');\n",
              "          const dataTable =\n",
              "            await google.colab.kernel.invokeFunction('convertToInteractive',\n",
              "                                                     [key], {});\n",
              "          if (!dataTable) return;\n",
              "\n",
              "          const docLinkHtml = 'Like what you see? Visit the ' +\n",
              "            '<a target=\"_blank\" href=https://colab.research.google.com/notebooks/data_table.ipynb>data table notebook</a>'\n",
              "            + ' to learn more about interactive tables.';\n",
              "          element.innerHTML = '';\n",
              "          dataTable['output_type'] = 'display_data';\n",
              "          await google.colab.output.renderOutput(dataTable, element);\n",
              "          const docLink = document.createElement('div');\n",
              "          docLink.innerHTML = docLinkHtml;\n",
              "          element.appendChild(docLink);\n",
              "        }\n",
              "      </script>\n",
              "    </div>\n",
              "  </div>\n",
              "  "
            ]
          },
          "metadata": {},
          "execution_count": 52
        }
      ]
    },
    {
      "cell_type": "code",
      "source": [
        "#строим прогноз, записываем в отдкльную переменную\n",
        "forecast = model.predict(future)\n",
        "forecast.head() # возвращает много колонок"
      ],
      "metadata": {
        "colab": {
          "base_uri": "https://localhost:8080/",
          "height": 356
        },
        "id": "dU0q9t3RIOYx",
        "outputId": "3a878dfd-937d-4e17-91c3-1dd2cb483620"
      },
      "id": "dU0q9t3RIOYx",
      "execution_count": 53,
      "outputs": [
        {
          "output_type": "execute_result",
          "data": {
            "text/plain": [
              "          ds      trend  yhat_lower  yhat_upper  trend_lower  trend_upper  \\\n",
              "0 1985-12-01  97.464095   94.067912  100.433499    97.464095    97.464095   \n",
              "1 1986-01-01  97.858431   94.971407  101.050595    97.858431    97.858431   \n",
              "2 1986-02-01  98.252767   95.443349  101.620205    98.252767    98.252767   \n",
              "3 1986-03-01  98.608941   96.082637  102.031889    98.608941    98.608941   \n",
              "4 1986-04-01  99.003277   96.184369  102.566307    99.003277    99.003277   \n",
              "\n",
              "   additive_terms  additive_terms_lower  additive_terms_upper    yearly  \\\n",
              "0       -0.304331             -0.304331             -0.304331 -0.304331   \n",
              "1        0.179050              0.179050              0.179050  0.179050   \n",
              "2        0.305443              0.305443              0.305443  0.305443   \n",
              "3        0.499296              0.499296              0.499296  0.499296   \n",
              "4        0.404821              0.404821              0.404821  0.404821   \n",
              "\n",
              "   yearly_lower  yearly_upper  multiplicative_terms  \\\n",
              "0     -0.304331     -0.304331                   0.0   \n",
              "1      0.179050      0.179050                   0.0   \n",
              "2      0.305443      0.305443                   0.0   \n",
              "3      0.499296      0.499296                   0.0   \n",
              "4      0.404821      0.404821                   0.0   \n",
              "\n",
              "   multiplicative_terms_lower  multiplicative_terms_upper       yhat  \n",
              "0                         0.0                         0.0  97.159764  \n",
              "1                         0.0                         0.0  98.037480  \n",
              "2                         0.0                         0.0  98.558210  \n",
              "3                         0.0                         0.0  99.108238  \n",
              "4                         0.0                         0.0  99.408098  "
            ],
            "text/html": [
              "\n",
              "  <div id=\"df-94ab6d8e-085f-4cc3-8b64-30a9ecfae1b8\">\n",
              "    <div class=\"colab-df-container\">\n",
              "      <div>\n",
              "<style scoped>\n",
              "    .dataframe tbody tr th:only-of-type {\n",
              "        vertical-align: middle;\n",
              "    }\n",
              "\n",
              "    .dataframe tbody tr th {\n",
              "        vertical-align: top;\n",
              "    }\n",
              "\n",
              "    .dataframe thead th {\n",
              "        text-align: right;\n",
              "    }\n",
              "</style>\n",
              "<table border=\"1\" class=\"dataframe\">\n",
              "  <thead>\n",
              "    <tr style=\"text-align: right;\">\n",
              "      <th></th>\n",
              "      <th>ds</th>\n",
              "      <th>trend</th>\n",
              "      <th>yhat_lower</th>\n",
              "      <th>yhat_upper</th>\n",
              "      <th>trend_lower</th>\n",
              "      <th>trend_upper</th>\n",
              "      <th>additive_terms</th>\n",
              "      <th>additive_terms_lower</th>\n",
              "      <th>additive_terms_upper</th>\n",
              "      <th>yearly</th>\n",
              "      <th>yearly_lower</th>\n",
              "      <th>yearly_upper</th>\n",
              "      <th>multiplicative_terms</th>\n",
              "      <th>multiplicative_terms_lower</th>\n",
              "      <th>multiplicative_terms_upper</th>\n",
              "      <th>yhat</th>\n",
              "    </tr>\n",
              "  </thead>\n",
              "  <tbody>\n",
              "    <tr>\n",
              "      <th>0</th>\n",
              "      <td>1985-12-01</td>\n",
              "      <td>97.464095</td>\n",
              "      <td>94.067912</td>\n",
              "      <td>100.433499</td>\n",
              "      <td>97.464095</td>\n",
              "      <td>97.464095</td>\n",
              "      <td>-0.304331</td>\n",
              "      <td>-0.304331</td>\n",
              "      <td>-0.304331</td>\n",
              "      <td>-0.304331</td>\n",
              "      <td>-0.304331</td>\n",
              "      <td>-0.304331</td>\n",
              "      <td>0.0</td>\n",
              "      <td>0.0</td>\n",
              "      <td>0.0</td>\n",
              "      <td>97.159764</td>\n",
              "    </tr>\n",
              "    <tr>\n",
              "      <th>1</th>\n",
              "      <td>1986-01-01</td>\n",
              "      <td>97.858431</td>\n",
              "      <td>94.971407</td>\n",
              "      <td>101.050595</td>\n",
              "      <td>97.858431</td>\n",
              "      <td>97.858431</td>\n",
              "      <td>0.179050</td>\n",
              "      <td>0.179050</td>\n",
              "      <td>0.179050</td>\n",
              "      <td>0.179050</td>\n",
              "      <td>0.179050</td>\n",
              "      <td>0.179050</td>\n",
              "      <td>0.0</td>\n",
              "      <td>0.0</td>\n",
              "      <td>0.0</td>\n",
              "      <td>98.037480</td>\n",
              "    </tr>\n",
              "    <tr>\n",
              "      <th>2</th>\n",
              "      <td>1986-02-01</td>\n",
              "      <td>98.252767</td>\n",
              "      <td>95.443349</td>\n",
              "      <td>101.620205</td>\n",
              "      <td>98.252767</td>\n",
              "      <td>98.252767</td>\n",
              "      <td>0.305443</td>\n",
              "      <td>0.305443</td>\n",
              "      <td>0.305443</td>\n",
              "      <td>0.305443</td>\n",
              "      <td>0.305443</td>\n",
              "      <td>0.305443</td>\n",
              "      <td>0.0</td>\n",
              "      <td>0.0</td>\n",
              "      <td>0.0</td>\n",
              "      <td>98.558210</td>\n",
              "    </tr>\n",
              "    <tr>\n",
              "      <th>3</th>\n",
              "      <td>1986-03-01</td>\n",
              "      <td>98.608941</td>\n",
              "      <td>96.082637</td>\n",
              "      <td>102.031889</td>\n",
              "      <td>98.608941</td>\n",
              "      <td>98.608941</td>\n",
              "      <td>0.499296</td>\n",
              "      <td>0.499296</td>\n",
              "      <td>0.499296</td>\n",
              "      <td>0.499296</td>\n",
              "      <td>0.499296</td>\n",
              "      <td>0.499296</td>\n",
              "      <td>0.0</td>\n",
              "      <td>0.0</td>\n",
              "      <td>0.0</td>\n",
              "      <td>99.108238</td>\n",
              "    </tr>\n",
              "    <tr>\n",
              "      <th>4</th>\n",
              "      <td>1986-04-01</td>\n",
              "      <td>99.003277</td>\n",
              "      <td>96.184369</td>\n",
              "      <td>102.566307</td>\n",
              "      <td>99.003277</td>\n",
              "      <td>99.003277</td>\n",
              "      <td>0.404821</td>\n",
              "      <td>0.404821</td>\n",
              "      <td>0.404821</td>\n",
              "      <td>0.404821</td>\n",
              "      <td>0.404821</td>\n",
              "      <td>0.404821</td>\n",
              "      <td>0.0</td>\n",
              "      <td>0.0</td>\n",
              "      <td>0.0</td>\n",
              "      <td>99.408098</td>\n",
              "    </tr>\n",
              "  </tbody>\n",
              "</table>\n",
              "</div>\n",
              "      <button class=\"colab-df-convert\" onclick=\"convertToInteractive('df-94ab6d8e-085f-4cc3-8b64-30a9ecfae1b8')\"\n",
              "              title=\"Convert this dataframe to an interactive table.\"\n",
              "              style=\"display:none;\">\n",
              "        \n",
              "  <svg xmlns=\"http://www.w3.org/2000/svg\" height=\"24px\"viewBox=\"0 0 24 24\"\n",
              "       width=\"24px\">\n",
              "    <path d=\"M0 0h24v24H0V0z\" fill=\"none\"/>\n",
              "    <path d=\"M18.56 5.44l.94 2.06.94-2.06 2.06-.94-2.06-.94-.94-2.06-.94 2.06-2.06.94zm-11 1L8.5 8.5l.94-2.06 2.06-.94-2.06-.94L8.5 2.5l-.94 2.06-2.06.94zm10 10l.94 2.06.94-2.06 2.06-.94-2.06-.94-.94-2.06-.94 2.06-2.06.94z\"/><path d=\"M17.41 7.96l-1.37-1.37c-.4-.4-.92-.59-1.43-.59-.52 0-1.04.2-1.43.59L10.3 9.45l-7.72 7.72c-.78.78-.78 2.05 0 2.83L4 21.41c.39.39.9.59 1.41.59.51 0 1.02-.2 1.41-.59l7.78-7.78 2.81-2.81c.8-.78.8-2.07 0-2.86zM5.41 20L4 18.59l7.72-7.72 1.47 1.35L5.41 20z\"/>\n",
              "  </svg>\n",
              "      </button>\n",
              "      \n",
              "  <style>\n",
              "    .colab-df-container {\n",
              "      display:flex;\n",
              "      flex-wrap:wrap;\n",
              "      gap: 12px;\n",
              "    }\n",
              "\n",
              "    .colab-df-convert {\n",
              "      background-color: #E8F0FE;\n",
              "      border: none;\n",
              "      border-radius: 50%;\n",
              "      cursor: pointer;\n",
              "      display: none;\n",
              "      fill: #1967D2;\n",
              "      height: 32px;\n",
              "      padding: 0 0 0 0;\n",
              "      width: 32px;\n",
              "    }\n",
              "\n",
              "    .colab-df-convert:hover {\n",
              "      background-color: #E2EBFA;\n",
              "      box-shadow: 0px 1px 2px rgba(60, 64, 67, 0.3), 0px 1px 3px 1px rgba(60, 64, 67, 0.15);\n",
              "      fill: #174EA6;\n",
              "    }\n",
              "\n",
              "    [theme=dark] .colab-df-convert {\n",
              "      background-color: #3B4455;\n",
              "      fill: #D2E3FC;\n",
              "    }\n",
              "\n",
              "    [theme=dark] .colab-df-convert:hover {\n",
              "      background-color: #434B5C;\n",
              "      box-shadow: 0px 1px 3px 1px rgba(0, 0, 0, 0.15);\n",
              "      filter: drop-shadow(0px 1px 2px rgba(0, 0, 0, 0.3));\n",
              "      fill: #FFFFFF;\n",
              "    }\n",
              "  </style>\n",
              "\n",
              "      <script>\n",
              "        const buttonEl =\n",
              "          document.querySelector('#df-94ab6d8e-085f-4cc3-8b64-30a9ecfae1b8 button.colab-df-convert');\n",
              "        buttonEl.style.display =\n",
              "          google.colab.kernel.accessAllowed ? 'block' : 'none';\n",
              "\n",
              "        async function convertToInteractive(key) {\n",
              "          const element = document.querySelector('#df-94ab6d8e-085f-4cc3-8b64-30a9ecfae1b8');\n",
              "          const dataTable =\n",
              "            await google.colab.kernel.invokeFunction('convertToInteractive',\n",
              "                                                     [key], {});\n",
              "          if (!dataTable) return;\n",
              "\n",
              "          const docLinkHtml = 'Like what you see? Visit the ' +\n",
              "            '<a target=\"_blank\" href=https://colab.research.google.com/notebooks/data_table.ipynb>data table notebook</a>'\n",
              "            + ' to learn more about interactive tables.';\n",
              "          element.innerHTML = '';\n",
              "          dataTable['output_type'] = 'display_data';\n",
              "          await google.colab.output.renderOutput(dataTable, element);\n",
              "          const docLink = document.createElement('div');\n",
              "          docLink.innerHTML = docLinkHtml;\n",
              "          element.appendChild(docLink);\n",
              "        }\n",
              "      </script>\n",
              "    </div>\n",
              "  </div>\n",
              "  "
            ]
          },
          "metadata": {},
          "execution_count": 53
        }
      ]
    },
    {
      "cell_type": "markdown",
      "source": [
        "Основные поля в прогнозе следующие:\n",
        "\n",
        "* ds — дата прогноза\n",
        "\n",
        "* yhat — спрогнозированное значение\n",
        "\n",
        "* yhat_lower — нижняя граница доверительного интервала для прогноза\n",
        "\n",
        "* yhat_upper — верхняя граница доверительного интервала для прогноза"
      ],
      "metadata": {
        "id": "AuZWsyIAImCq"
      },
      "id": "AuZWsyIAImCq"
    },
    {
      "cell_type": "code",
      "source": [
        "# выводим основные поля последних значений\n",
        "forecast[['ds', 'yhat', 'yhat_lower', 'yhat_upper']].tail()"
      ],
      "metadata": {
        "colab": {
          "base_uri": "https://localhost:8080/",
          "height": 206
        },
        "id": "l2ssCiGaIvqK",
        "outputId": "8292e915-f2d4-4cd1-aeb5-eb1500f98c41"
      },
      "id": "l2ssCiGaIvqK",
      "execution_count": 54,
      "outputs": [
        {
          "output_type": "execute_result",
          "data": {
            "text/plain": [
              "            ds        yhat  yhat_lower  yhat_upper\n",
              "392 2018-08-01  240.437797  237.275070  243.752229\n",
              "393 2018-09-01  240.515278  237.484825  243.670478\n",
              "394 2018-10-01  240.731326  237.458282  243.985756\n",
              "395 2018-11-01  240.795048  237.524579  244.165478\n",
              "396 2018-12-01  241.121526  237.772038  244.437372"
            ],
            "text/html": [
              "\n",
              "  <div id=\"df-56315f47-6588-42da-bafe-d92e5d36985e\">\n",
              "    <div class=\"colab-df-container\">\n",
              "      <div>\n",
              "<style scoped>\n",
              "    .dataframe tbody tr th:only-of-type {\n",
              "        vertical-align: middle;\n",
              "    }\n",
              "\n",
              "    .dataframe tbody tr th {\n",
              "        vertical-align: top;\n",
              "    }\n",
              "\n",
              "    .dataframe thead th {\n",
              "        text-align: right;\n",
              "    }\n",
              "</style>\n",
              "<table border=\"1\" class=\"dataframe\">\n",
              "  <thead>\n",
              "    <tr style=\"text-align: right;\">\n",
              "      <th></th>\n",
              "      <th>ds</th>\n",
              "      <th>yhat</th>\n",
              "      <th>yhat_lower</th>\n",
              "      <th>yhat_upper</th>\n",
              "    </tr>\n",
              "  </thead>\n",
              "  <tbody>\n",
              "    <tr>\n",
              "      <th>392</th>\n",
              "      <td>2018-08-01</td>\n",
              "      <td>240.437797</td>\n",
              "      <td>237.275070</td>\n",
              "      <td>243.752229</td>\n",
              "    </tr>\n",
              "    <tr>\n",
              "      <th>393</th>\n",
              "      <td>2018-09-01</td>\n",
              "      <td>240.515278</td>\n",
              "      <td>237.484825</td>\n",
              "      <td>243.670478</td>\n",
              "    </tr>\n",
              "    <tr>\n",
              "      <th>394</th>\n",
              "      <td>2018-10-01</td>\n",
              "      <td>240.731326</td>\n",
              "      <td>237.458282</td>\n",
              "      <td>243.985756</td>\n",
              "    </tr>\n",
              "    <tr>\n",
              "      <th>395</th>\n",
              "      <td>2018-11-01</td>\n",
              "      <td>240.795048</td>\n",
              "      <td>237.524579</td>\n",
              "      <td>244.165478</td>\n",
              "    </tr>\n",
              "    <tr>\n",
              "      <th>396</th>\n",
              "      <td>2018-12-01</td>\n",
              "      <td>241.121526</td>\n",
              "      <td>237.772038</td>\n",
              "      <td>244.437372</td>\n",
              "    </tr>\n",
              "  </tbody>\n",
              "</table>\n",
              "</div>\n",
              "      <button class=\"colab-df-convert\" onclick=\"convertToInteractive('df-56315f47-6588-42da-bafe-d92e5d36985e')\"\n",
              "              title=\"Convert this dataframe to an interactive table.\"\n",
              "              style=\"display:none;\">\n",
              "        \n",
              "  <svg xmlns=\"http://www.w3.org/2000/svg\" height=\"24px\"viewBox=\"0 0 24 24\"\n",
              "       width=\"24px\">\n",
              "    <path d=\"M0 0h24v24H0V0z\" fill=\"none\"/>\n",
              "    <path d=\"M18.56 5.44l.94 2.06.94-2.06 2.06-.94-2.06-.94-.94-2.06-.94 2.06-2.06.94zm-11 1L8.5 8.5l.94-2.06 2.06-.94-2.06-.94L8.5 2.5l-.94 2.06-2.06.94zm10 10l.94 2.06.94-2.06 2.06-.94-2.06-.94-.94-2.06-.94 2.06-2.06.94z\"/><path d=\"M17.41 7.96l-1.37-1.37c-.4-.4-.92-.59-1.43-.59-.52 0-1.04.2-1.43.59L10.3 9.45l-7.72 7.72c-.78.78-.78 2.05 0 2.83L4 21.41c.39.39.9.59 1.41.59.51 0 1.02-.2 1.41-.59l7.78-7.78 2.81-2.81c.8-.78.8-2.07 0-2.86zM5.41 20L4 18.59l7.72-7.72 1.47 1.35L5.41 20z\"/>\n",
              "  </svg>\n",
              "      </button>\n",
              "      \n",
              "  <style>\n",
              "    .colab-df-container {\n",
              "      display:flex;\n",
              "      flex-wrap:wrap;\n",
              "      gap: 12px;\n",
              "    }\n",
              "\n",
              "    .colab-df-convert {\n",
              "      background-color: #E8F0FE;\n",
              "      border: none;\n",
              "      border-radius: 50%;\n",
              "      cursor: pointer;\n",
              "      display: none;\n",
              "      fill: #1967D2;\n",
              "      height: 32px;\n",
              "      padding: 0 0 0 0;\n",
              "      width: 32px;\n",
              "    }\n",
              "\n",
              "    .colab-df-convert:hover {\n",
              "      background-color: #E2EBFA;\n",
              "      box-shadow: 0px 1px 2px rgba(60, 64, 67, 0.3), 0px 1px 3px 1px rgba(60, 64, 67, 0.15);\n",
              "      fill: #174EA6;\n",
              "    }\n",
              "\n",
              "    [theme=dark] .colab-df-convert {\n",
              "      background-color: #3B4455;\n",
              "      fill: #D2E3FC;\n",
              "    }\n",
              "\n",
              "    [theme=dark] .colab-df-convert:hover {\n",
              "      background-color: #434B5C;\n",
              "      box-shadow: 0px 1px 3px 1px rgba(0, 0, 0, 0.15);\n",
              "      filter: drop-shadow(0px 1px 2px rgba(0, 0, 0, 0.3));\n",
              "      fill: #FFFFFF;\n",
              "    }\n",
              "  </style>\n",
              "\n",
              "      <script>\n",
              "        const buttonEl =\n",
              "          document.querySelector('#df-56315f47-6588-42da-bafe-d92e5d36985e button.colab-df-convert');\n",
              "        buttonEl.style.display =\n",
              "          google.colab.kernel.accessAllowed ? 'block' : 'none';\n",
              "\n",
              "        async function convertToInteractive(key) {\n",
              "          const element = document.querySelector('#df-56315f47-6588-42da-bafe-d92e5d36985e');\n",
              "          const dataTable =\n",
              "            await google.colab.kernel.invokeFunction('convertToInteractive',\n",
              "                                                     [key], {});\n",
              "          if (!dataTable) return;\n",
              "\n",
              "          const docLinkHtml = 'Like what you see? Visit the ' +\n",
              "            '<a target=\"_blank\" href=https://colab.research.google.com/notebooks/data_table.ipynb>data table notebook</a>'\n",
              "            + ' to learn more about interactive tables.';\n",
              "          element.innerHTML = '';\n",
              "          dataTable['output_type'] = 'display_data';\n",
              "          await google.colab.output.renderOutput(dataTable, element);\n",
              "          const docLink = document.createElement('div');\n",
              "          docLink.innerHTML = docLinkHtml;\n",
              "          element.appendChild(docLink);\n",
              "        }\n",
              "      </script>\n",
              "    </div>\n",
              "  </div>\n",
              "  "
            ]
          },
          "metadata": {},
          "execution_count": 54
        }
      ]
    },
    {
      "cell_type": "markdown",
      "source": [
        "При помощи метода plot сравниваем график по прогнозу и обучающей выборке (черные точки)"
      ],
      "metadata": {
        "id": "uGswZMtEJhaZ"
      },
      "id": "uGswZMtEJhaZ"
    },
    {
      "cell_type": "code",
      "source": [
        "model.plot(forecast);"
      ],
      "metadata": {
        "colab": {
          "base_uri": "https://localhost:8080/",
          "height": 441
        },
        "id": "iHkXoiPUJeYA",
        "outputId": "af6b600b-8a63-4745-f10e-105582807f5f"
      },
      "id": "iHkXoiPUJeYA",
      "execution_count": 55,
      "outputs": [
        {
          "output_type": "display_data",
          "data": {
            "text/plain": [
              "<Figure size 720x432 with 1 Axes>"
            ],
            "image/png": "[encoded data removed]"
          },
          "metadata": {}
        }
      ]
    },
    {
      "cell_type": "markdown",
      "source": [
        "Разложим ряд на основные компоненты — тренд и сезонность:"
      ],
      "metadata": {
        "id": "Mx9jXoCvK8fU"
      },
      "id": "Mx9jXoCvK8fU"
    },
    {
      "cell_type": "code",
      "source": [
        "model.plot_components(forecast);"
      ],
      "metadata": {
        "colab": {
          "base_uri": "https://localhost:8080/",
          "height": 441
        },
        "id": "87G4HpjtLD9J",
        "outputId": "16946502-08a7-4c31-d830-005f33cc3f0f"
      },
      "id": "87G4HpjtLD9J",
      "execution_count": 56,
      "outputs": [
        {
          "output_type": "display_data",
          "data": {
            "text/plain": [
              "<Figure size 648x432 with 2 Axes>"
            ],
            "image/png": "[encoded data removed]"
          },
          "metadata": {}
        }
      ]
    },
    {
      "cell_type": "markdown",
      "source": [
        "Видим, что тренд у индекса цен возрастающий и у нас есть четкая годовая сезонность:\n",
        "\n",
        "* индекс цены высокий в феврале-марте;\n",
        "* индекс цен падает в конце декабря-начале февраля.\n",
        "\n",
        "\n",
        "---\n",
        "\n"
      ],
      "metadata": {
        "id": "Nz0iYKfiLROA"
      },
      "id": "Nz0iYKfiLROA"
    },
    {
      "cell_type": "markdown",
      "source": [
        "### Оценим качество полученного прогноза на тестовой выборке с помощью метрик MSE, RMSE и MAPE"
      ],
      "metadata": {
        "id": "I8GOb3WOMGH9"
      },
      "id": "I8GOb3WOMGH9"
    },
    {
      "cell_type": "code",
      "source": [
        "# Оценим качество полученного прогноза на тестовой выборке с помощью метрик MSE, RMSE и MAPE\n",
        "mse_value = mean_squared_error(test_0 ['y'], forecast['yhat'].tail(12))      #Cреднеквадратичной ошибкf\n",
        "rmse_value = rmse(test_0 ['y'], forecast['yhat'].tail(12))                   #Квадратный корень из среднеквадратичной ошибки\n",
        "mape_value = np.mean(np.abs(forecast['yhat'] - test_0['y'])/test_0['y'])*100  #Cредняя абсолютная ошибка в процентах\n",
        "print(f'Prophet MSE Error: {mse_value:11.10}')\n",
        "print(f'Prophet RMSE Error: {rmse_value:11.10}')\n",
        "print(f'Prophet MAPE Error: {mape_error:11.10}')"
      ],
      "metadata": {
        "colab": {
          "base_uri": "https://localhost:8080/",
          "height": 0
        },
        "id": "K3_sSG98M4hZ",
        "outputId": "0e5d9080-0541-453d-ac94-e6fc2fc32849"
      },
      "id": "K3_sSG98M4hZ",
      "execution_count": 59,
      "outputs": [
        {
          "output_type": "stream",
          "name": "stdout",
          "text": [
            "Prophet MSE Error:  11.1938026\n",
            "Prophet RMSE Error: 3.345714065\n",
            "Prophet MAPE Error: 1.988859125\n"
          ]
        }
      ]
    },
    {
      "cell_type": "markdown",
      "source": [
        "Полученные результаты в целом удовлитворительные:\n",
        "\n",
        "Cредняя абсолютная ошибка в процентах = 1.988859125% соответствует с моделью по SARIMA (SARIMA MAPE Error = 1.988859125%).\n",
        "\n",
        "При этом среднеквадратичная ошибка меньше:\n",
        "\n",
        "*   Prophet MSE Error:  11.1938026\n",
        "*   SARIMA MSE Error = 25.39034039\n",
        "\n",
        "И соответственно квадратный корень из среднеквадратичной ошибки:\n",
        "*   Prophet RMSE Error: 3.345714065\n",
        "*   SARIMARMSE Error= 5.038882851\n",
        "\n",
        "---\n",
        "\n"
      ],
      "metadata": {
        "id": "Xnui65VrQjZX"
      },
      "id": "Xnui65VrQjZX"
    },
    {
      "cell_type": "markdown",
      "source": [
        "## Заключение\n",
        "\n",
        "Для решения поставленных задач были выполнены следующие шаги:\n",
        "* проведен анализ статистических данных об изменении индекса цен на корм для собак;\n",
        "* определены модели для прогнозирования и основные метрики, построены графики временных рядов для данных метрик;\n",
        "* составлен прогноз индекса цен на корм для собак на год вперед, используя две основные модели прогноза SARIMA и Prophet;\n",
        "* дана оценка моделей эффективности моделей.\n",
        "\n",
        "По результатам статистического анализа можно сделать следующие заключения:\n",
        "\n",
        "*   результаты прогнозов удовлетворительные с сохранением тенденций на индекс цен и сезонность;\n",
        "*   среди изученных моделей обе модели прогнозирования показали хорошие результаты, средняя абсолютная ошибка была одинаковой, всего 1,99%."
      ],
      "metadata": {
        "id": "dFYDFhY8WQ5S"
      },
      "id": "dFYDFhY8WQ5S"
    }
  ],
  "metadata": {
    "kernelspec": {
      "display_name": "Python 3 (ipykernel)",
      "language": "python",
      "name": "python3"
    },
    "language_info": {
      "codemirror_mode": {
        "name": "ipython",
        "version": 3
      },
      "file_extension": ".py",
      "mimetype": "text/x-python",
      "name": "python",
      "nbconvert_exporter": "python",
      "pygments_lexer": "ipython3",
      "version": "3.10.2"
    },
    "colab": {
      "name": "Diploma_SorokinaLF.ipynb",
      "provenance": [],
      "collapsed_sections": []
    }
  },
  "nbformat": 4,
  "nbformat_minor": 5
}